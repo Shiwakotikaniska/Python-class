{
 "cells": [
  {
   "cell_type": "markdown",
   "id": "b36d0a98",
   "metadata": {},
   "source": [
    "# Object oriented programmming (OOP)"
   ]
  },
  {
   "cell_type": "markdown",
   "id": "1d7e643d",
   "metadata": {},
   "source": [
    "oop is a method of programming that focuses on usng object and class to organize and structure code.\n",
    "\n",
    "**Object**\n",
    "- Instance of class\n",
    "\n",
    "**class**\n",
    "- like blueprint for creating objects\n",
    "\n",
    "- object contains\n",
    "    - data(Attributes)\n",
    "    - methods(Functions)\n",
    "    "
   ]
  },
  {
   "cell_type": "markdown",
   "id": "51d21bc4",
   "metadata": {},
   "source": [
    "## Fundamental principle of OOP\n",
    "1. Encapsulation\n",
    "    - concept of bundling the attribute/data and methods that work on the data into a single unit or class\n",
    "\n",
    "2. Abstraction\n",
    "    - Hiding the complex implementation details and showing only the essentioal features of the object.\n",
    "\n",
    "3. Inheritence\n",
    "    - Allowing a new class to inherit attributes and methods from an existing class,\n",
    "\n",
    "4. Polymorphism\n",
    "    - Allowing objects of different classes to be treated as a object of common superclass (by overriding or overloading methods).\n",
    "    \n",
    "\n"
   ]
  },
  {
   "cell_type": "markdown",
   "id": "00d14228",
   "metadata": {},
   "source": [
    "## WHY OPP?\n",
    "- Modularity\n",
    "- code reuse\n",
    "- Real world modeling\n",
    "- Maintainability\n"
   ]
  },
  {
   "cell_type": "markdown",
   "id": "9ecb5c8a",
   "metadata": {},
   "source": [
    "magic function\n",
    "```\n",
    "__init__\n",
    "__str__\n",
    "__add__\n",
    "__del__\n",
    "```"
   ]
  },
  {
   "cell_type": "code",
   "execution_count": null,
   "id": "7e152fea",
   "metadata": {},
   "outputs": [],
   "source": [
    "#Empty class\n",
    "class Person:\n",
    "    pass"
   ]
  },
  {
   "cell_type": "code",
   "execution_count": 4,
   "id": "52fe4f98",
   "metadata": {},
   "outputs": [
    {
     "name": "stdout",
     "output_type": "stream",
     "text": [
      "hello world!\n"
     ]
    }
   ],
   "source": [
    "#Class with method\n",
    "class Person:\n",
    "    def say_hello(self):\n",
    "        print(\"hello world!\")\n",
    "\n",
    "\n",
    "# Creating object\n",
    "p = Person()\n",
    "p.say_hello()\n"
   ]
  },
  {
   "cell_type": "code",
   "execution_count": 7,
   "id": "9c421612",
   "metadata": {},
   "outputs": [
    {
     "name": "stdout",
     "output_type": "stream",
     "text": [
      "Hello, sita\n",
      "<__main__.Person object at 0x0000025BB06F3E00>\n",
      "<class '__main__.Person'>\n",
      "None\n"
     ]
    }
   ],
   "source": [
    "#Class with method and attribute\n",
    "class Person:\n",
    "    name = \"sita\"\n",
    "    def say_hello(self):\n",
    "        print(f\"Hello, {self.name}\")\n",
    "\n",
    "\n",
    "# Creating object\n",
    "p = Person()\n",
    "p.say_hello()\n",
    "print(p)\n",
    "print(p.__class__)\n",
    "print(p.__doc__)\n"
   ]
  },
  {
   "cell_type": "markdown",
   "id": "7124485b",
   "metadata": {},
   "source": [
    "# inheritance , constructor and distructor"
   ]
  },
  {
   "cell_type": "markdown",
   "id": "d04ca508",
   "metadata": {},
   "source": []
  },
  {
   "cell_type": "code",
   "execution_count": null,
   "id": "1c589930",
   "metadata": {},
   "outputs": [],
   "source": []
  }
 ],
 "metadata": {
  "kernelspec": {
   "display_name": "Python 3",
   "language": "python",
   "name": "python3"
  },
  "language_info": {
   "codemirror_mode": {
    "name": "ipython",
    "version": 3
   },
   "file_extension": ".py",
   "mimetype": "text/x-python",
   "name": "python",
   "nbconvert_exporter": "python",
   "pygments_lexer": "ipython3",
   "version": "3.13.3"
  }
 },
 "nbformat": 4,
 "nbformat_minor": 5
}
