{
 "cells": [
  {
   "cell_type": "markdown",
   "id": "3b7fa4ce",
   "metadata": {},
   "source": [
    "# Inheritance \n",
    "1. parent class\n",
    "2. child class\n",
    "```\n",
    "class Parentclass:\n",
    "    pass\n",
    "\n",
    "class Childclasss(Parentclass):\n",
    "```pass\n",
    "\n",
    "**Parent Class**\n",
    "- Base class, from which other class can inherit\n",
    "\n",
    "**Child Class**\n",
    "- derived class that inherits from the parent class\n"
   ]
  },
  {
   "cell_type": "markdown",
   "id": "085fc772",
   "metadata": {},
   "source": [
    "## Types of Inheritence\n",
    "\n",
    "1. Single\n",
    "``` \n",
    "Parent Class <....... child class\n",
    "```\n",
    "2. multiple\n",
    "```\n",
    "Parent class 1 , Parent class 2 <....... Child class 1\n",
    "```\n",
    "3. Multilevel\n",
    "```\n",
    "Parent Class <...... Child class 1, Child class 2\n",
    "```\n",
    "4. Hybrid\n",
    "```\n",
    "- Any two or more combination"
   ]
  },
  {
   "cell_type": "code",
   "execution_count": 2,
   "id": "21290663",
   "metadata": {},
   "outputs": [
    {
     "name": "stdout",
     "output_type": "stream",
     "text": [
      "animal has 2 eyes.\n",
      "Bhau Bhau\n"
     ]
    }
   ],
   "source": [
    "class Animal:\n",
    "    def get_eyes(self):\n",
    "        return \"animal has 2 eyes.\"\n",
    "    \n",
    "class Dog(Animal):\n",
    "    def speak(self):\n",
    "        return \"Bhau Bhau\"\n",
    "\n",
    "dog = Dog()\n",
    "print(dog.get_eyes())\n",
    "print(dog.speak())    \n",
    "\n",
    "\n"
   ]
  },
  {
   "cell_type": "code",
   "execution_count": 12,
   "id": "a9944941",
   "metadata": {},
   "outputs": [],
   "source": [
    "class Person:\n",
    "    def __init__(self , name):\n",
    "        self.name = name\n",
    "\n",
    "    def info(self):\n",
    "        print(\"name:\", self.name)\n",
    "\n",
    "class Employee(Person):\n",
    "    def __init__(self, name ,company):\n",
    "        self.company = company\n",
    "        super().__init__(name)\n",
    "\n",
    "    def info(self):\n",
    "        print(\"name:\", self.name)\n",
    "        print(\"company:\", self.company)\n",
    "\n",
    "    \n"
   ]
  },
  {
   "cell_type": "code",
   "execution_count": 13,
   "id": "8485ea58",
   "metadata": {},
   "outputs": [
    {
     "name": "stdout",
     "output_type": "stream",
     "text": [
      "name: ram\n"
     ]
    }
   ],
   "source": [
    "p = Person(\"ram\")\n",
    "p.info()"
   ]
  },
  {
   "cell_type": "code",
   "execution_count": 14,
   "id": "4e255701",
   "metadata": {},
   "outputs": [
    {
     "name": "stdout",
     "output_type": "stream",
     "text": [
      "name: hari\n",
      "company: STL\n"
     ]
    }
   ],
   "source": [
    "e = Employee(\"hari\", \"STL\")\n",
    "e.info()\n"
   ]
  },
  {
   "cell_type": "code",
   "execution_count": 16,
   "id": "fcb8d61d",
   "metadata": {},
   "outputs": [
    {
     "name": "stdout",
     "output_type": "stream",
     "text": [
      "name: gopal\n",
      "company: stl\n",
      "Python django\n"
     ]
    }
   ],
   "source": [
    "class Programmer(Employee):\n",
    "    def __init__(self, name, company, skill):\n",
    "        super().__init__(name, company)\n",
    "        self.skill = skill\n",
    "\n",
    "programmer = Programmer(\"gopal\",\"stl\",\"Python django\")\n",
    "programmer.info()\n",
    "print(programmer.skill)"
   ]
  },
  {
   "cell_type": "code",
   "execution_count": 1,
   "id": "0091d10f",
   "metadata": {},
   "outputs": [
    {
     "name": "stdout",
     "output_type": "stream",
     "text": [
      "('Wood cutting', 'Carpanting', 'cooking', 'painting', 'coding')\n"
     ]
    }
   ],
   "source": [
    "class Father:\n",
    "    def skills(self):\n",
    "        return(\"Wood cutting\",\"Carpanting\")\n",
    "    \n",
    "class Mother:\n",
    "    def skills(self):\n",
    "        return(\"cooking\",\"painting\")\n",
    "    \n",
    "class Child(Father , Mother):\n",
    "    def skills(self):\n",
    "        return Father.skills(self) + Mother.skills(self) + (\"coding\",)\n",
    "    \n",
    "\n",
    "print(Child().skills())\n"
   ]
  },
  {
   "cell_type": "code",
   "execution_count": 24,
   "id": "8fbb38aa",
   "metadata": {},
   "outputs": [
    {
     "name": "stdout",
     "output_type": "stream",
     "text": [
      "Flying in the sky\n",
      "Flying in the sky using fuel\n"
     ]
    }
   ],
   "source": [
    "# Polymorphism\n",
    "\n",
    "class Bird:\n",
    "    def fly(self):\n",
    "        return \"Flying in the sky\"\n",
    "    \n",
    "class Airplane:\n",
    "    def fly(self):\n",
    "        return \"Flying in the sky using fuel\"\n",
    "    \n",
    "def flying(obj):\n",
    "    print(obj.fly())\n",
    "\n",
    "b = Bird()\n",
    "a = Airplane()\n",
    "\n",
    "flying(b)\n",
    "flying(a)"
   ]
  },
  {
   "cell_type": "code",
   "execution_count": 37,
   "id": "9340d225",
   "metadata": {},
   "outputs": [],
   "source": [
    "# Abstraction\n",
    "# cannot create object of abstract class, must need to override abstract methods\n",
    "\n",
    "from abc import abstractmethod, ABC\n",
    "\n",
    "class Shape(ABC):\n",
    "    @abstractmethod\n",
    "    def area(self):\n",
    "        pass\n",
    "\n",
    "class Circle(Shape):\n",
    "    def __init__(self , radius):\n",
    "        self.radius = radius\n",
    "\n",
    "    def area(self):\n",
    "        return 3.14 * self.radius * self.radius\n",
    "    \n",
    "class Square(Shape):\n",
    "    def __init__(self , length):\n",
    "       self.length = length\n",
    "    def area(self):\n",
    "        return self.length * self.length\n",
    "    \n",
    "class Rectangle(Shape):\n",
    "    def __init__(self, breadth , length):\n",
    "        self.breadth = breadth \n",
    "        self.length = length\n",
    "\n",
    "    def area(self):\n",
    "        return self.length * self.breadth\n",
    "    \n",
    "\n",
    "    "
   ]
  },
  {
   "cell_type": "code",
   "execution_count": 33,
   "id": "dfa8980d",
   "metadata": {},
   "outputs": [
    {
     "name": "stdout",
     "output_type": "stream",
     "text": [
      "78.5\n"
     ]
    }
   ],
   "source": [
    "c = Circle(5)\n",
    "print(c.area())"
   ]
  },
  {
   "cell_type": "code",
   "execution_count": 34,
   "id": "4628d96e",
   "metadata": {},
   "outputs": [
    {
     "name": "stdout",
     "output_type": "stream",
     "text": [
      "25\n"
     ]
    }
   ],
   "source": [
    "print(Square(5).area())\n"
   ]
  },
  {
   "cell_type": "code",
   "execution_count": 38,
   "id": "62dcaa7f",
   "metadata": {},
   "outputs": [
    {
     "name": "stdout",
     "output_type": "stream",
     "text": [
      "30\n"
     ]
    }
   ],
   "source": [
    "print(Rectangle(5,6).area())"
   ]
  },
  {
   "cell_type": "code",
   "execution_count": 39,
   "id": "20ae4153",
   "metadata": {},
   "outputs": [],
   "source": [
    "# Static Methods\n",
    "\n",
    "class Math:\n",
    "    @staticmethod\n",
    "    def add(a,b):\n",
    "        return a + b\n",
    "    \n",
    "    @staticmethod\n",
    "    def multiply(a,b):\n",
    "        return a * b\n",
    "    "
   ]
  },
  {
   "cell_type": "code",
   "execution_count": 40,
   "id": "793f5372",
   "metadata": {},
   "outputs": [
    {
     "name": "stdout",
     "output_type": "stream",
     "text": [
      "9\n",
      "20\n"
     ]
    }
   ],
   "source": [
    "m = Math()\n",
    "print(m.add(5,4))\n",
    "print(m.multiply(5,4))\n"
   ]
  },
  {
   "cell_type": "code",
   "execution_count": null,
   "id": "ee12626c",
   "metadata": {},
   "outputs": [],
   "source": []
  }
 ],
 "metadata": {
  "kernelspec": {
   "display_name": "Python 3",
   "language": "python",
   "name": "python3"
  },
  "language_info": {
   "codemirror_mode": {
    "name": "ipython",
    "version": 3
   },
   "file_extension": ".py",
   "mimetype": "text/x-python",
   "name": "python",
   "nbconvert_exporter": "python",
   "pygments_lexer": "ipython3",
   "version": "3.13.3"
  }
 },
 "nbformat": 4,
 "nbformat_minor": 5
}
