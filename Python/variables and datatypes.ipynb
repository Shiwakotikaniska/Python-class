{
 "cells": [
  {
   "cell_type": "markdown",
   "id": "7215ca34-b654-43d3-b834-9005c98dab10",
   "metadata": {},
   "source": [
    "# Keywords, Identifiers, Variables and Data types\n",
    "\n",
    "Keywords: Reserved words that have a specific meaning, 35 keywords\n",
    "\n",
    "Identifiers: User define names to represent a variable, function, class or any object\n",
    "\n",
    "Naming convensions for identifiers:\n",
    "- lowercase (a to z) and uppercase (A to Z) letters\n",
    "- digits (0 to 9)\n",
    "- Can have underscore (_)\n",
    "- Can not use any other special characters\n",
    "- Can not start with digits\n",
    "- Should not use keywords as identifiers\n",
    "\n",
    "Variables: Represents an entity whose value can change"
   ]
  },
  {
   "cell_type": "code",
   "execution_count": 4,
   "id": "3b07c72c-f502-4ae7-bbb4-2bd6ce70c946",
   "metadata": {},
   "outputs": [
    {
     "name": "stdout",
     "output_type": "stream",
     "text": [
      "['False', 'None', 'True', 'and', 'as', 'assert', 'async', 'await', 'break', 'class', 'continue', 'def', 'del', 'elif', 'else', 'except', 'finally', 'for', 'from', 'global', 'if', 'import', 'in', 'is', 'lambda', 'nonlocal', 'not', 'or', 'pass', 'raise', 'return', 'try', 'while', 'with', 'yield']\n",
      "35\n"
     ]
    }
   ],
   "source": [
    "import keyword\n",
    "print(keyword.kwlist)\n",
    "print(len(keyword.kwlist))"
   ]
  },
  {
   "cell_type": "code",
   "execution_count": 9,
   "id": "e89d9047-9ec6-4250-8ed6-e54fd4041613",
   "metadata": {},
   "outputs": [],
   "source": [
    "name = \"Hari\"\n",
    "# 3name = \"Ram\"  : can not use\n",
    "name3 = \"Ram\"\n",
    "_name = \"Gopal\"\n",
    "Name = \"Shyam\""
   ]
  },
  {
   "cell_type": "code",
   "execution_count": 11,
   "id": "4c0d6cd4-5e96-4e9d-a524-f1f484c69f69",
   "metadata": {},
   "outputs": [
    {
     "name": "stdout",
     "output_type": "stream",
     "text": [
      "Hari\n",
      "Shyam\n"
     ]
    }
   ],
   "source": [
    "print(name)\n",
    "print(Name)"
   ]
  },
  {
   "cell_type": "code",
   "execution_count": 12,
   "id": "c1af8034-404b-4412-946d-f7041b6a54ec",
   "metadata": {},
   "outputs": [
    {
     "name": "stdout",
     "output_type": "stream",
     "text": [
      "Hari Ram Gopal Shyam\n"
     ]
    }
   ],
   "source": [
    "print(name, name3, _name, Name)"
   ]
  },
  {
   "cell_type": "code",
   "execution_count": 19,
   "id": "1b64043c-2073-472a-a20f-a1e127076710",
   "metadata": {},
   "outputs": [
    {
     "data": {
      "text/plain": [
       "'Radha'"
      ]
     },
     "execution_count": 19,
     "metadata": {},
     "output_type": "execute_result"
    }
   ],
   "source": [
    "name = \"Radha\"\n",
    "name"
   ]
  },
  {
   "cell_type": "code",
   "execution_count": 24,
   "id": "7b29f33d-038f-488b-a987-a8b48d405c1b",
   "metadata": {},
   "outputs": [],
   "source": [
    "a, b, c, d = (3, 4, 5, 6)"
   ]
  },
  {
   "cell_type": "code",
   "execution_count": 23,
   "id": "21b766c3-372f-4e4b-a28f-b108255e7043",
   "metadata": {},
   "outputs": [
    {
     "name": "stdout",
     "output_type": "stream",
     "text": [
      "3 4 5 6\n"
     ]
    }
   ],
   "source": [
    "print(a, b, c, d)"
   ]
  },
  {
   "cell_type": "raw",
   "id": "7daac79a-075d-46d5-8273-742d50b8d15d",
   "metadata": {},
   "source": [
    "sum_of_numbers  # Snake case\n",
    "sumOfNumbers  # Camel case\n",
    "SumOfNumbers  # Pascal case\n",
    "\n",
    "Snake Case: variables, functions\n",
    "Pascal Case: Class"
   ]
  },
  {
   "cell_type": "code",
   "execution_count": 28,
   "id": "a9d1241d-47df-414c-b14d-a4f6f8001346",
   "metadata": {},
   "outputs": [
    {
     "data": {
      "text/plain": [
       "'STN'"
      ]
     },
     "execution_count": 28,
     "metadata": {},
     "output_type": "execute_result"
    }
   ],
   "source": [
    "p = \"STN\"\n",
    "p"
   ]
  },
  {
   "cell_type": "code",
   "execution_count": 29,
   "id": "e5887346-b12a-44a3-980c-3afb927175f1",
   "metadata": {},
   "outputs": [
    {
     "data": {
      "text/plain": [
       "5"
      ]
     },
     "execution_count": 29,
     "metadata": {},
     "output_type": "execute_result"
    }
   ],
   "source": [
    "p = 5\n",
    "p"
   ]
  },
  {
   "cell_type": "code",
   "execution_count": 35,
   "id": "707d05ec-f773-40c6-bf2e-eeb18ee1801d",
   "metadata": {},
   "outputs": [
    {
     "data": {
      "text/plain": [
       "('Radha', 'Hari')"
      ]
     },
     "execution_count": 35,
     "metadata": {},
     "output_type": "execute_result"
    }
   ],
   "source": [
    "p, q = name, \"Hari\"\n",
    "p, q"
   ]
  },
  {
   "cell_type": "code",
   "execution_count": 38,
   "id": "55ad5e65-da20-45fc-a668-53619a954a61",
   "metadata": {},
   "outputs": [
    {
     "name": "stdout",
     "output_type": "stream",
     "text": [
      "<class 'str'>\n"
     ]
    },
    {
     "data": {
      "text/plain": [
       "str"
      ]
     },
     "execution_count": 38,
     "metadata": {},
     "output_type": "execute_result"
    }
   ],
   "source": [
    "name = \"Sita\"\n",
    "print(type(name))\n",
    "type(name)"
   ]
  },
  {
   "cell_type": "code",
   "execution_count": 39,
   "id": "7e4c4a84-2ee4-4d23-8dae-9b1df9361e3a",
   "metadata": {},
   "outputs": [
    {
     "name": "stdout",
     "output_type": "stream",
     "text": [
      "<class 'int'>\n"
     ]
    }
   ],
   "source": [
    "num = 6\n",
    "print(type(num))"
   ]
  },
  {
   "cell_type": "code",
   "execution_count": 40,
   "id": "6094873b-54de-4985-b9f2-1076e3a9c0cd",
   "metadata": {},
   "outputs": [
    {
     "name": "stdout",
     "output_type": "stream",
     "text": [
      "<class 'float'>\n"
     ]
    }
   ],
   "source": [
    "num1 = 6.5\n",
    "print(type(num1))"
   ]
  },
  {
   "cell_type": "code",
   "execution_count": 41,
   "id": "7e4cb6af-3ea4-4873-b18c-ce59c7aacb10",
   "metadata": {},
   "outputs": [
    {
     "name": "stdout",
     "output_type": "stream",
     "text": [
      "<class 'int'>\n"
     ]
    }
   ],
   "source": [
    "name = 7\n",
    "print(type(name))"
   ]
  },
  {
   "cell_type": "code",
   "execution_count": 46,
   "id": "7675b9b9-3167-43e6-b632-1b718f74f1cf",
   "metadata": {},
   "outputs": [
    {
     "name": "stdout",
     "output_type": "stream",
     "text": [
      "<class 'bool'>\n",
      "<class 'bool'>\n"
     ]
    }
   ],
   "source": [
    "print(type(True))\n",
    "print(type(False))"
   ]
  },
  {
   "cell_type": "code",
   "execution_count": 47,
   "id": "bf546b6b-be48-4768-95a2-4094293ca641",
   "metadata": {},
   "outputs": [
    {
     "name": "stdout",
     "output_type": "stream",
     "text": [
      "<class 'tuple'>\n"
     ]
    }
   ],
   "source": [
    "numbers = (3, 4, 5, 6)\n",
    "print(type(numbers))"
   ]
  },
  {
   "cell_type": "code",
   "execution_count": 48,
   "id": "b0b5385a-22cb-4622-8d6a-ee8eedac92ab",
   "metadata": {},
   "outputs": [
    {
     "name": "stdout",
     "output_type": "stream",
     "text": [
      "<class 'list'>\n"
     ]
    }
   ],
   "source": [
    "numbers = [3, 4, 5, 6]\n",
    "print(type(numbers))"
   ]
  },
  {
   "cell_type": "code",
   "execution_count": 52,
   "id": "015c70cd-fb3d-4b46-866a-aaf92a9ab0d7",
   "metadata": {},
   "outputs": [
    {
     "name": "stdout",
     "output_type": "stream",
     "text": [
      "<class 'set'>\n",
      "{3, 4, 5, 6}\n"
     ]
    }
   ],
   "source": [
    "numbers = {3, 4, 5, 6, 5, 4}\n",
    "print(type(numbers))\n",
    "print(numbers)"
   ]
  },
  {
   "cell_type": "code",
   "execution_count": 78,
   "id": "952292ab-3290-4fff-b9f3-4c80dc38590f",
   "metadata": {},
   "outputs": [
    {
     "name": "stdout",
     "output_type": "stream",
     "text": [
      "<class 'dict'>\n"
     ]
    }
   ],
   "source": [
    "numbers = {\n",
    "    3: \"Three\", \n",
    "    4: \"Four\", \n",
    "    5: \"Five\", \n",
    "    6: \"Six\"\n",
    "}\n",
    "# key: value pair\n",
    "print(type(numbers))"
   ]
  },
  {
   "cell_type": "code",
   "execution_count": 79,
   "id": "702712dd-de47-4f5e-8590-3633c2216fa6",
   "metadata": {},
   "outputs": [
    {
     "data": {
      "text/plain": [
       "dict_keys([3, 4, 5, 6])"
      ]
     },
     "execution_count": 79,
     "metadata": {},
     "output_type": "execute_result"
    }
   ],
   "source": [
    "numbers.keys()"
   ]
  },
  {
   "cell_type": "code",
   "execution_count": 80,
   "id": "6b694d17-c9dc-404b-8233-02e53e899ed0",
   "metadata": {},
   "outputs": [
    {
     "data": {
      "text/plain": [
       "dict_values(['Three', 'Four', 'Five', 'Six'])"
      ]
     },
     "execution_count": 80,
     "metadata": {},
     "output_type": "execute_result"
    }
   ],
   "source": [
    "numbers.values()"
   ]
  },
  {
   "cell_type": "code",
   "execution_count": 82,
   "id": "17d96ecc-b8ba-49ec-810a-fd331503ab0f",
   "metadata": {},
   "outputs": [
    {
     "data": {
      "text/plain": [
       "'Three'"
      ]
     },
     "execution_count": 82,
     "metadata": {},
     "output_type": "execute_result"
    }
   ],
   "source": [
    "numbers[3]"
   ]
  },
  {
   "cell_type": "code",
   "execution_count": 60,
   "id": "a06a5ead-5b0d-4c1a-ac6a-1cedd277aab5",
   "metadata": {},
   "outputs": [
    {
     "data": {
      "text/plain": [
       "'Skill Training Nepal'"
      ]
     },
     "execution_count": 60,
     "metadata": {},
     "output_type": "execute_result"
    }
   ],
   "source": [
    "stn = \"Skill Training Nepal\"\n",
    "stn"
   ]
  },
  {
   "cell_type": "code",
   "execution_count": 68,
   "id": "87e578f2-76ba-41af-b20a-73ca4de1a32c",
   "metadata": {},
   "outputs": [
    {
     "name": "stdout",
     "output_type": "stream",
     "text": [
      "S\n",
      "20\n",
      "l\n",
      "l\n"
     ]
    }
   ],
   "source": [
    "# String slicing\n",
    "print(stn[0])\n",
    "print(len(stn))\n",
    "print(stn[19])\n",
    "print(stn[-1])"
   ]
  },
  {
   "cell_type": "code",
   "execution_count": 70,
   "id": "04c9d5a2-435d-4b36-95a4-57dc1118a0bb",
   "metadata": {},
   "outputs": [
    {
     "data": {
      "text/plain": [
       "'T'"
      ]
     },
     "execution_count": 70,
     "metadata": {},
     "output_type": "execute_result"
    }
   ],
   "source": [
    "stn[6]"
   ]
  },
  {
   "cell_type": "code",
   "execution_count": 71,
   "id": "64e5d73e-5811-4729-80b8-4a9dd4ec7c54",
   "metadata": {},
   "outputs": [
    {
     "data": {
      "text/plain": [
       "'Training'"
      ]
     },
     "execution_count": 71,
     "metadata": {},
     "output_type": "execute_result"
    }
   ],
   "source": [
    "stn[6:14]"
   ]
  },
  {
   "cell_type": "code",
   "execution_count": 73,
   "id": "6ef860df-4127-4c6c-9e6b-7ba647efce1a",
   "metadata": {},
   "outputs": [
    {
     "data": {
      "text/plain": [
       "'Skill'"
      ]
     },
     "execution_count": 73,
     "metadata": {},
     "output_type": "execute_result"
    }
   ],
   "source": [
    "stn[0:5]"
   ]
  },
  {
   "cell_type": "code",
   "execution_count": 74,
   "id": "bacf564a-b2da-41da-bd77-30ee9f74bdc7",
   "metadata": {},
   "outputs": [
    {
     "data": {
      "text/plain": [
       "'Skill'"
      ]
     },
     "execution_count": 74,
     "metadata": {},
     "output_type": "execute_result"
    }
   ],
   "source": [
    "stn[:5]"
   ]
  },
  {
   "cell_type": "code",
   "execution_count": 77,
   "id": "8f22f471-db01-4595-97ce-89c3da4e74bc",
   "metadata": {},
   "outputs": [
    {
     "data": {
      "text/plain": [
       "'Nepal'"
      ]
     },
     "execution_count": 77,
     "metadata": {},
     "output_type": "execute_result"
    }
   ],
   "source": [
    "nep = stn[15:]\n",
    "nep"
   ]
  },
  {
   "cell_type": "code",
   "execution_count": null,
   "id": "efa96a03-58ab-4b14-bdc1-e4f3c40f9e89",
   "metadata": {},
   "outputs": [],
   "source": []
  }
 ],
 "metadata": {
  "kernelspec": {
   "display_name": "Python 3 (ipykernel)",
   "language": "python",
   "name": "python3"
  },
  "language_info": {
   "codemirror_mode": {
    "name": "ipython",
    "version": 3
   },
   "file_extension": ".py",
   "mimetype": "text/x-python",
   "name": "python",
   "nbconvert_exporter": "python",
   "pygments_lexer": "ipython3",
   "version": "3.13.3"
  }
 },
 "nbformat": 4,
 "nbformat_minor": 5
}
