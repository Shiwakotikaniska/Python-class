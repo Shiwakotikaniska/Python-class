{
 "cells": [
  {
   "cell_type": "code",
   "execution_count": 3,
   "id": "a9bf333d",
   "metadata": {},
   "outputs": [
    {
     "name": "stdout",
     "output_type": "stream",
     "text": [
      "Hello, Sita\n",
      "<__main__.Person object at 0x7b9ed38f56a0>\n",
      "<class '__main__.Person'>\n",
      "None\n"
     ]
    }
   ],
   "source": [
    "# Class with method and attribute\n",
    "class Person:\n",
    "    name = \"Sita\"\n",
    "\n",
    "    def say_hello(self):\n",
    "        print(f\"Hello, {self.name}\")\n",
    "\n",
    "# Creating object\n",
    "p = Person()\n",
    "p.say_hello()\n",
    "print(p)\n",
    "print(p.__class__)\n",
    "print(p.__doc__)"
   ]
  },
  {
   "cell_type": "code",
   "execution_count": 6,
   "id": "c9b367f2",
   "metadata": {},
   "outputs": [
    {
     "name": "stdout",
     "output_type": "stream",
     "text": [
      "Hello, Sita\n",
      "<__main__.Person object at 0x7b9ed38f5d30>\n",
      "<class '__main__.Person'>\n",
      "\n",
      "This is class Person, which says hello for a person.\n",
      "\n"
     ]
    }
   ],
   "source": [
    "# Class with method and attribute\n",
    "class Person:\n",
    "    \"\"\"\n",
    "    This is class Person, which says hello for a person.\n",
    "    \"\"\"\n",
    "    name = \"Sita\"\n",
    "\n",
    "    def say_hello(self):\n",
    "        print(f\"Hello, {self.name}\")\n",
    "\n",
    "# Creating object\n",
    "p = Person()\n",
    "p.say_hello()\n",
    "print(p)\n",
    "print(p.__class__)\n",
    "print(p.__doc__)"
   ]
  },
  {
   "cell_type": "code",
   "execution_count": 7,
   "id": "0a8ea39c",
   "metadata": {},
   "outputs": [
    {
     "name": "stdout",
     "output_type": "stream",
     "text": [
      "Hello, Sita\n",
      "Person object with name Sita\n",
      "<class '__main__.Person'>\n",
      "\n",
      "This is class Person, which says hello for a person.\n",
      "\n"
     ]
    }
   ],
   "source": [
    "# Class with method and attribute\n",
    "class Person:\n",
    "    \"\"\"\n",
    "    This is class Person, which says hello for a person.\n",
    "    \"\"\"\n",
    "    name = \"Sita\"\n",
    "\n",
    "    def say_hello(self):\n",
    "        print(f\"Hello, {self.name}\")\n",
    "\n",
    "    def __str__(self):\n",
    "        return f\"Person object with name {self.name}\"\n",
    "\n",
    "# Creating object\n",
    "p = Person()\n",
    "p.say_hello()\n",
    "print(p)\n",
    "print(p.__class__)\n",
    "print(p.__doc__)"
   ]
  },
  {
   "cell_type": "code",
   "execution_count": 14,
   "id": "35b7ce9a",
   "metadata": {},
   "outputs": [
    {
     "name": "stdout",
     "output_type": "stream",
     "text": [
      "I am destructor\n",
      "Hello, Hari\n",
      "Person object with name Hari\n",
      "<class '__main__.Person'>\n",
      "\n",
      "This is class Person, which says hello for a person.\n",
      "\n"
     ]
    }
   ],
   "source": [
    "# Class with method, attribute, constructor and destructor\n",
    "\n",
    "\n",
    "class Person:\n",
    "    \"\"\"\n",
    "    This is class Person, which says hello for a person.\n",
    "    \"\"\"\n",
    "\n",
    "    def __init__(self, name):\n",
    "        self.name = name\n",
    "\n",
    "    def say_hello(self):\n",
    "        print(f\"Hello, {self.name}\")\n",
    "\n",
    "    def __str__(self):\n",
    "        return f\"Person object with name {self.name}\"\n",
    "    \n",
    "    def __del__(self):\n",
    "        print(\"I am destructor\")\n",
    "\n",
    "\n",
    "# Creating object\n",
    "p = Person(\"Hari\")\n",
    "p.say_hello()\n",
    "print(p)\n",
    "print(p.__class__)\n",
    "print(p.__doc__)"
   ]
  },
  {
   "cell_type": "code",
   "execution_count": 17,
   "id": "1bdaa55f",
   "metadata": {},
   "outputs": [
    {
     "name": "stdout",
     "output_type": "stream",
     "text": [
      "I am destructor\n",
      "Hello, Gopal\n",
      "\n",
      "This is class Person, which says hello for a person.\n",
      "\n",
      "Person object with name Gopal\n"
     ]
    }
   ],
   "source": [
    "p1 = Person(\"Gopal\")\n",
    "p1.say_hello()\n",
    "print(p1.__doc__)\n",
    "print(p1)"
   ]
  },
  {
   "cell_type": "code",
   "execution_count": 19,
   "id": "75b4a9c2",
   "metadata": {},
   "outputs": [
    {
     "name": "stdout",
     "output_type": "stream",
     "text": [
      "I am destructor\n",
      "I am destructor\n",
      "I am destructor\n",
      "\n",
      "This is class Person, which says hello for a person.\n",
      "\n",
      "Person object with name A\n",
      "Hello, A\n",
      "\n",
      "This is class Person, which says hello for a person.\n",
      "\n",
      "Person object with name B\n",
      "Hello, B\n",
      "\n",
      "This is class Person, which says hello for a person.\n",
      "\n",
      "Person object with name C\n",
      "Hello, C\n"
     ]
    }
   ],
   "source": [
    "persons  = [Person(\"A\"), Person(\"B\"), Person(\"C\")]\n",
    "\n",
    "for p in persons:\n",
    "    print(p.__doc__)\n",
    "    print(p)\n",
    "    p.say_hello()"
   ]
  },
  {
   "cell_type": "markdown",
   "id": "5dcf36f1",
   "metadata": {},
   "source": [
    "```\n",
    "Q. Write a class Person\n",
    "constructor -> name, age\n",
    "function greet -> Hello, my name is {name} and I am {age} years old.\n",
    "```"
   ]
  },
  {
   "cell_type": "code",
   "execution_count": 31,
   "id": "6ccd5e6d",
   "metadata": {},
   "outputs": [
    {
     "name": "stdout",
     "output_type": "stream",
     "text": [
      "Hello, my name is Hari and I am 20 years old.\n",
      "Hari\n"
     ]
    }
   ],
   "source": [
    "# Class and Object \n",
    "\n",
    "class Person:\n",
    "    def __init__(self, name, age):\n",
    "        self.name = name\n",
    "        self.age = age\n",
    "\n",
    "    def greet(self):\n",
    "        return f\"Hello, my name is {self.name} and I am {self.age} years old.\"\n",
    "\n",
    "\n",
    "# Creating object\n",
    "p = Person(\"Hari\", 20)\n",
    "print(p.greet())\n",
    "print(p.name)"
   ]
  },
  {
   "cell_type": "code",
   "execution_count": 33,
   "id": "e8ca0475",
   "metadata": {},
   "outputs": [
    {
     "name": "stdout",
     "output_type": "stream",
     "text": [
      "Bank Balance is Rs. 100\n",
      "Deposited Rs. 1500\n",
      "Bank Balance is Rs. 1600\n",
      "Withdrawn Rs. 500\n",
      "Bank Balance is Rs. 1100\n"
     ]
    }
   ],
   "source": [
    "# Encapsulation\n",
    "\n",
    "class BankAccount:\n",
    "    def __init__(self, balance):\n",
    "        self.__balance = balance\n",
    "\n",
    "    def deposite(self, amount):\n",
    "        print(f\"Deposited Rs. {amount}\")\n",
    "        self.__balance += amount\n",
    "\n",
    "    def withdraw(self, amount):\n",
    "        print(f\"Withdrawn Rs. {amount}\")\n",
    "        self.__balance -= amount\n",
    "\n",
    "    def get_balance(self):\n",
    "        return self.__balance\n",
    "    \n",
    "\n",
    "account = BankAccount(100)\n",
    "print(f\"Bank Balance is Rs. {account.get_balance()}\")\n",
    "\n",
    "account.deposite(1500)\n",
    "print(f\"Bank Balance is Rs. {account.get_balance()}\")\n",
    "\n",
    "account.withdraw(500)\n",
    "print(f\"Bank Balance is Rs. {account.get_balance()}\")\n"
   ]
  },
  {
   "cell_type": "code",
   "execution_count": null,
   "id": "8a6f766e",
   "metadata": {},
   "outputs": [],
   "source": []
  }
 ],
 "metadata": {
  "kernelspec": {
   "display_name": "Python 3",
   "language": "python",
   "name": "python3"
  },
  "language_info": {
   "codemirror_mode": {
    "name": "ipython",
    "version": 3
   },
   "file_extension": ".py",
   "mimetype": "text/x-python",
   "name": "python",
   "nbconvert_exporter": "python",
   "pygments_lexer": "ipython3",
   "version": "3.13.2"
  }
 },
 "nbformat": 4,
 "nbformat_minor": 5
}
