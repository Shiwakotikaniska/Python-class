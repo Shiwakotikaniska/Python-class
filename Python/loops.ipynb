{
 "cells": [
  {
   "cell_type": "markdown",
   "id": "bbbcef5e-11b4-4769-9b44-0eca867f4e15",
   "metadata": {},
   "source": [
    "# Loops in Python\n",
    "1. while\n",
    "2. for"
   ]
  },
  {
   "cell_type": "markdown",
   "id": "c67732a0-c7ec-4742-83f6-29dfd5f585b9",
   "metadata": {},
   "source": [
    "## While loop\n",
    "\n",
    "```\n",
    "while condition:\n",
    "    body\n",
    "```"
   ]
  },
  {
   "cell_type": "code",
   "execution_count": 1,
   "id": "47c8383b-c812-422f-a382-0a245f09065e",
   "metadata": {},
   "outputs": [
    {
     "name": "stdout",
     "output_type": "stream",
     "text": [
      "0\n",
      "1\n",
      "2\n",
      "3\n",
      "4\n"
     ]
    }
   ],
   "source": [
    "i = 0\n",
    "\n",
    "while i < 5:\n",
    "    print(i)\n",
    "    i += 1"
   ]
  },
  {
   "cell_type": "markdown",
   "id": "3ec42d52-0746-4e73-95fd-459e64f88e4e",
   "metadata": {},
   "source": [
    "## For loop\n",
    "\n",
    "```\n",
    "for iterations\n",
    "    body\n",
    "```"
   ]
  },
  {
   "cell_type": "code",
   "execution_count": 3,
   "id": "1b8ac522-7190-4f13-88fe-ecccbca93319",
   "metadata": {},
   "outputs": [
    {
     "name": "stdout",
     "output_type": "stream",
     "text": [
      "0\n",
      "1\n",
      "2\n",
      "3\n",
      "4\n",
      "5\n",
      "6\n",
      "7\n",
      "8\n",
      "9\n"
     ]
    }
   ],
   "source": [
    "for i in range(10):\n",
    "    print(i)"
   ]
  },
  {
   "cell_type": "code",
   "execution_count": 4,
   "id": "e9cd5213-e962-40a5-894b-b7fa090b8ef6",
   "metadata": {},
   "outputs": [
    {
     "name": "stdout",
     "output_type": "stream",
     "text": [
      "Ram\n",
      "Shyam\n",
      "Hari\n"
     ]
    }
   ],
   "source": [
    "for i in [\"Ram\", \"Shyam\", \"Hari\"]:\n",
    "    print(i)"
   ]
  },
  {
   "cell_type": "code",
   "execution_count": 5,
   "id": "79192c4c-e260-46c4-b4f9-26d8e1662627",
   "metadata": {},
   "outputs": [],
   "source": [
    "# break and continue"
   ]
  },
  {
   "cell_type": "code",
   "execution_count": 9,
   "id": "ec20d0a5-8800-4aa3-a928-5b45cd3c9f36",
   "metadata": {},
   "outputs": [
    {
     "name": "stdout",
     "output_type": "stream",
     "text": [
      "1\n",
      "2\n",
      "3\n",
      "4\n",
      "6\n",
      "7\n",
      "8\n",
      "9\n",
      "10\n"
     ]
    }
   ],
   "source": [
    "num = 0\n",
    "\n",
    "while num < 10:\n",
    "    num += 1\n",
    "    if num == 5:\n",
    "        continue\n",
    "    print(num)"
   ]
  },
  {
   "cell_type": "code",
   "execution_count": 10,
   "id": "cce0f3c6-1f1c-42c6-a041-719053ebe05c",
   "metadata": {},
   "outputs": [
    {
     "name": "stdout",
     "output_type": "stream",
     "text": [
      "1\n",
      "2\n",
      "3\n",
      "4\n"
     ]
    }
   ],
   "source": [
    "num = 0\n",
    "\n",
    "while num < 10:\n",
    "    num += 1\n",
    "    if num == 5:\n",
    "        break\n",
    "    print(num)"
   ]
  },
  {
   "cell_type": "code",
   "execution_count": 11,
   "id": "2cadd573-9f88-4c7f-9802-c0989114cf92",
   "metadata": {},
   "outputs": [
    {
     "name": "stdout",
     "output_type": "stream",
     "text": [
      "10\n",
      "9\n",
      "8\n",
      "7\n",
      "6\n",
      "5\n",
      "4\n",
      "3\n",
      "2\n",
      "1\n",
      "0\n"
     ]
    }
   ],
   "source": [
    "n = 10\n",
    "\n",
    "while True:\n",
    "    print(n)\n",
    "    n -= 1\n",
    "    if (n < 0):\n",
    "        break"
   ]
  },
  {
   "cell_type": "code",
   "execution_count": 15,
   "id": "878520ca-46bd-4ade-9a26-e034ef520a45",
   "metadata": {},
   "outputs": [
    {
     "name": "stdout",
     "output_type": "stream",
     "text": [
      "1 * 1 = 1\n",
      "1 * 2 = 2\n",
      "1 * 3 = 3\n",
      "1 * 4 = 4\n",
      "1 * 5 = 5\n",
      "1 * 6 = 6\n",
      "1 * 7 = 7\n",
      "1 * 8 = 8\n",
      "1 * 9 = 9\n",
      "1 * 10 = 10\n",
      "-----------------\n",
      "2 * 1 = 2\n",
      "2 * 2 = 4\n",
      "2 * 3 = 6\n",
      "2 * 4 = 8\n",
      "2 * 5 = 10\n",
      "2 * 6 = 12\n",
      "2 * 7 = 14\n",
      "2 * 8 = 16\n",
      "2 * 9 = 18\n",
      "2 * 10 = 20\n",
      "-----------------\n",
      "3 * 1 = 3\n",
      "3 * 2 = 6\n",
      "3 * 3 = 9\n",
      "3 * 4 = 12\n",
      "3 * 5 = 15\n",
      "3 * 6 = 18\n",
      "3 * 7 = 21\n",
      "3 * 8 = 24\n",
      "3 * 9 = 27\n",
      "3 * 10 = 30\n",
      "-----------------\n",
      "4 * 1 = 4\n",
      "4 * 2 = 8\n",
      "4 * 3 = 12\n",
      "4 * 4 = 16\n",
      "4 * 5 = 20\n",
      "4 * 6 = 24\n",
      "4 * 7 = 28\n",
      "4 * 8 = 32\n",
      "4 * 9 = 36\n",
      "4 * 10 = 40\n",
      "-----------------\n",
      "5 * 1 = 5\n",
      "5 * 2 = 10\n",
      "5 * 3 = 15\n",
      "5 * 4 = 20\n",
      "5 * 5 = 25\n",
      "5 * 6 = 30\n",
      "5 * 7 = 35\n",
      "5 * 8 = 40\n",
      "5 * 9 = 45\n",
      "5 * 10 = 50\n",
      "-----------------\n"
     ]
    }
   ],
   "source": [
    "# Nested loop\n",
    "\n",
    "for i in range (1, 6):\n",
    "    for j in range (1, 11):\n",
    "        print(f\"{i} * {j} = {i * j}\")\n",
    "    print(\"-----------------\")"
   ]
  },
  {
   "cell_type": "code",
   "execution_count": 12,
   "id": "28c45868-4898-428f-a842-8194edaf8c93",
   "metadata": {},
   "outputs": [],
   "source": [
    "# Q. WAP to display Even numbers from 1 to 99 in while and for loop"
   ]
  },
  {
   "cell_type": "code",
   "execution_count": 16,
   "id": "933759d5-b791-42d9-9e94-753ceea59b9b",
   "metadata": {},
   "outputs": [],
   "source": [
    "# Q. WAP that takes number from user as input, add them and show sum if sum > 100"
   ]
  },
  {
   "cell_type": "code",
   "execution_count": 5,
   "id": "1e33c1b0-998a-42ae-8bb6-8377eaee9433",
   "metadata": {},
   "outputs": [
    {
     "name": "stdin",
     "output_type": "stream",
     "text": [
      "Enter a number:  10\n"
     ]
    },
    {
     "name": "stdout",
     "output_type": "stream",
     "text": [
      "Sum before 0\n",
      "Sum after 10\n"
     ]
    },
    {
     "name": "stdin",
     "output_type": "stream",
     "text": [
      "Enter a number:  20\n"
     ]
    },
    {
     "name": "stdout",
     "output_type": "stream",
     "text": [
      "Sum before 10\n",
      "Sum after 30\n"
     ]
    },
    {
     "name": "stdin",
     "output_type": "stream",
     "text": [
      "Enter a number:  50\n"
     ]
    },
    {
     "name": "stdout",
     "output_type": "stream",
     "text": [
      "Sum before 30\n",
      "Sum after 80\n"
     ]
    },
    {
     "name": "stdin",
     "output_type": "stream",
     "text": [
      "Enter a number:  50\n"
     ]
    },
    {
     "name": "stdout",
     "output_type": "stream",
     "text": [
      "Sum before 80\n",
      "Sum after 130\n",
      "The sum is 130\n"
     ]
    }
   ],
   "source": [
    "sum = 0\n",
    "\n",
    "while True:\n",
    "    try:\n",
    "        num = int(input(\"Enter a number: \"))\n",
    "        # print(\"Sum before\", sum)\n",
    "        sum += num\n",
    "        # print(\"Sum after\", sum)\n",
    "        if sum > 100:\n",
    "            print(f\"The sum is {sum}\")\n",
    "            break\n",
    "    except:\n",
    "        print(\"Enter valid number\")"
   ]
  },
  {
   "cell_type": "markdown",
   "id": "be6a2225-df11-44bc-97da-6d5b1139adf3",
   "metadata": {},
   "source": [
    "### Q. Make a guessing game\n",
    "```\n",
    "There is a random number say flag\n",
    "Take a number input from user (guess)\n",
    "if guess is equal to flag\n",
    "    display your answer is correct and stop program\n",
    "if guess is less than flag\n",
    "    display guess higher and continue\n",
    "if guess is higher than flag\n",
    "    display guess lower and continue\n",
    "```"
   ]
  },
  {
   "cell_type": "code",
   "execution_count": 19,
   "id": "c555483f-59f2-487d-9abd-0d3c93c32744",
   "metadata": {},
   "outputs": [
    {
     "data": {
      "text/plain": [
       "81"
      ]
     },
     "execution_count": 19,
     "metadata": {},
     "output_type": "execute_result"
    }
   ],
   "source": [
    "import random\n",
    "random.random()\n",
    "random.randint(1, 100)"
   ]
  },
  {
   "cell_type": "code",
   "execution_count": null,
   "id": "efa73299-795e-482a-ae27-d599915c6025",
   "metadata": {},
   "outputs": [],
   "source": []
  }
 ],
 "metadata": {
  "kernelspec": {
   "display_name": "Python 3 (ipykernel)",
   "language": "python",
   "name": "python3"
  },
  "language_info": {
   "codemirror_mode": {
    "name": "ipython",
    "version": 3
   },
   "file_extension": ".py",
   "mimetype": "text/x-python",
   "name": "python",
   "nbconvert_exporter": "python",
   "pygments_lexer": "ipython3",
   "version": "3.13.3"
  }
 },
 "nbformat": 4,
 "nbformat_minor": 5
}
