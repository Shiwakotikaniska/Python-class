{
 "cells": [
  {
   "cell_type": "markdown",
   "id": "65692f90-92dc-4e00-9d83-b6e79f7b297e",
   "metadata": {},
   "source": [
    "# File Handling\n",
    "- Read\n",
    "- Write\n",
    "  \n",
    "*Normal file, Binary file*"
   ]
  },
  {
   "cell_type": "markdown",
   "id": "8ccc3fff-6d06-466d-bc94-d74c99a81455",
   "metadata": {},
   "source": [
    "## Modes of operation\n",
    "1. Read only (r)\n",
    "2. Read only in binary (rb)\n",
    "3. Read and write (r+)\n",
    "4. Read and write in binary (rb+)\n",
    "5. Write (w)\n",
    "6. Write binary (wb)\n",
    "7. Write and read (w+)\n",
    "8. Write and read binary (wb+)\n",
    "9. Append (a)\n",
    "10. Append in binary (ab)\n",
    "11. Append and read (a+)\n",
    "12. Append and read in binary (ab+)"
   ]
  },
  {
   "cell_type": "markdown",
   "id": "4049f999-f2f8-4b4d-913e-7c1f7f4a2a21",
   "metadata": {},
   "source": [
    "```\n",
    "1. open a file\n",
    "2. do operation\n",
    "3. close file\n",
    "```"
   ]
  },
  {
   "cell_type": "code",
   "execution_count": 4,
   "id": "b3db0713-e5f3-420f-b501-e69832a4a092",
   "metadata": {},
   "outputs": [
    {
     "name": "stdout",
     "output_type": "stream",
     "text": [
      "Skill Training Nepal\n",
      "Python Class\n"
     ]
    }
   ],
   "source": [
    "# Open in normal mode\n",
    "\n",
    "file = open(\"hello.txt\", \"r\")\n",
    "\n",
    "data = file.read()\n",
    "print(data)\n",
    "\n",
    "file.close()"
   ]
  },
  {
   "cell_type": "code",
   "execution_count": 5,
   "id": "75735dc2-8e0a-4754-a511-3b15a341222e",
   "metadata": {},
   "outputs": [
    {
     "name": "stdout",
     "output_type": "stream",
     "text": [
      "b'Skill Training Nepal\\nPython Class'\n"
     ]
    }
   ],
   "source": [
    "# Open in binary mode\n",
    "\n",
    "file = open(\"hello.txt\", \"rb\")\n",
    "\n",
    "data = file.read()\n",
    "print(data)\n",
    "\n",
    "file.close()"
   ]
  },
  {
   "cell_type": "code",
   "execution_count": 6,
   "id": "461f6f66-5c78-43c0-86e6-8f016c4853e2",
   "metadata": {},
   "outputs": [],
   "source": [
    "# Write file\n",
    "\n",
    "file = open(\"newfile.txt\", \"w\")\n",
    "\n",
    "file.write(\"Hello, world!\")\n",
    "\n",
    "file.close()"
   ]
  },
  {
   "cell_type": "code",
   "execution_count": 11,
   "id": "5689876a-ea77-4fbf-ba16-10ac3ed3039f",
   "metadata": {},
   "outputs": [
    {
     "name": "stdout",
     "output_type": "stream",
     "text": [
      "written to file\n"
     ]
    }
   ],
   "source": [
    "# Write file in binary\n",
    "\n",
    "file = open(\"newfile.txt\", \"wb\")\n",
    "\n",
    "file.write(b\"Hello, world! once again.\")\n",
    "print(\"written to file\")\n",
    "\n",
    "file.close()"
   ]
  },
  {
   "cell_type": "code",
   "execution_count": 1,
   "id": "842c2d71-6347-45fd-8fab-97afd49ffaad",
   "metadata": {},
   "outputs": [],
   "source": [
    "# Append file\n",
    "\n",
    "file = open(\"newfile.txt\", \"a\")\n",
    "\n",
    "file.write(\"\\nWelcome to this world\")\n",
    "\n",
    "file.close()"
   ]
  },
  {
   "cell_type": "code",
   "execution_count": 25,
   "id": "4f7a730b-18e1-404e-8a9f-e77b6194644e",
   "metadata": {},
   "outputs": [
    {
     "name": "stdout",
     "output_type": "stream",
     "text": [
      "The file does not exists\n"
     ]
    }
   ],
   "source": [
    "try:\n",
    "    file = open(\"helo.txt\")\n",
    "\n",
    "    data = file.read()\n",
    "    print(data)\n",
    "\n",
    "except FileNotFoundError:\n",
    "    print(\"The file does not exists\")\n",
    "except Exception as e:\n",
    "    print(\"Something wrong\", e)    \n",
    "finally:\n",
    "    file.close()"
   ]
  },
  {
   "cell_type": "code",
   "execution_count": 26,
   "id": "81d86a97-1714-4f0f-99b4-76634247df58",
   "metadata": {},
   "outputs": [
    {
     "name": "stdout",
     "output_type": "stream",
     "text": [
      "Skill Training Nepal\n",
      "Python Class\n"
     ]
    }
   ],
   "source": [
    "with open (\"hello.txt\", \"r\") as file:\n",
    "    data = file.read()\n",
    "    print(data)"
   ]
  },
  {
   "cell_type": "code",
   "execution_count": 28,
   "id": "e7d7a586-1704-4718-9551-6bb729622b21",
   "metadata": {},
   "outputs": [
    {
     "name": "stdout",
     "output_type": "stream",
     "text": [
      "Skill Training Nepal\n",
      "\n",
      "Python Class\n",
      "\n"
     ]
    }
   ],
   "source": [
    "with open (\"hello.txt\", \"r\") as file:\n",
    "    data = file.readline()\n",
    "    print(data)\n",
    "    while len(data) > 0:\n",
    "        data = file.readline()\n",
    "        print(data)"
   ]
  },
  {
   "cell_type": "code",
   "execution_count": 29,
   "id": "98887f59-ed4f-4636-9a28-210295a303e8",
   "metadata": {},
   "outputs": [
    {
     "name": "stdout",
     "output_type": "stream",
     "text": [
      "Skill Training Nepal\n",
      "\n",
      "Python Class\n"
     ]
    }
   ],
   "source": [
    "with open (\"hello.txt\", \"r\") as file:\n",
    "    for line in file:\n",
    "        print(line)"
   ]
  },
  {
   "cell_type": "code",
   "execution_count": 34,
   "id": "a3b1c112-59c1-4753-ac53-b7a63cde4eac",
   "metadata": {},
   "outputs": [
    {
     "name": "stdout",
     "output_type": "stream",
     "text": [
      "Enter file name:  \n"
     ]
    },
    {
     "name": "stdout",
     "output_type": "stream",
     "text": [
      "WRITING PROGRAMS OR PROGRAMMING IS A VERY CREATIVE\n",
      "AND REWARDING ACTIVITY  YOU CAN WRITE PROGRAMS FOR\n",
      "MANY REASONS RANGING FROM MAKING YOUR LIVING TO SOLVING\n",
      "A DIFFICULT DATA ANALYSIS PROBLEM TO HAVING FUN TO HELPING\n",
      "SOMEONE ELSE SOLVE A PROBLEM  THIS BOOK ASSUMES THAT\n",
      "{\\EM EVERYONE} NEEDS TO KNOW HOW TO PROGRAM AND THAT ONCE\n",
      "YOU KNOW HOW TO PROGRAM, YOU WILL FIGURE OUT WHAT YOU WANT\n",
      "TO DO WITH YOUR NEWFOUND SKILLS\n",
      "\n",
      "WE ARE SURROUNDED IN OUR DAILY LIVES WITH COMPUTERS RANGING\n",
      "FROM LAPTOPS TO CELL PHONES  WE CAN THINK OF THESE COMPUTERS\n",
      "AS OUR PERSONAL ASSISTANTS WHO CAN TAKE CARE OF MANY THINGS\n",
      "ON OUR BEHALF  THE HARDWARE IN OUR CURRENT-DAY COMPUTERS\n",
      "IS ESSENTIALLY BUILT TO CONTINUOUSLY ASK US THE QUESTION\n",
      "WHAT WOULD YOU LIKE ME TO DO NEXT\n",
      "\n",
      "OUR COMPUTERS ARE FAST AND HAVE VASTS AMOUNTS OF MEMORY AND\n",
      "COULD BE VERY HELPFUL TO US IF WE ONLY KNEW THE LANGUAGE TO\n",
      "SPEAK TO EXPLAIN TO THE COMPUTER WHAT WE WOULD LIKE IT TO\n",
      "DO NEXT IF WE KNEW THIS LANGUAGE WE COULD TELL THE\n",
      "COMPUTER TO DO TASKS ON OUR BEHALF THAT WERE REPTITIVE\n",
      "INTERESTINGLY, THE KINDS OF THINGS COMPUTERS CAN DO BEST\n",
      "ARE OFTEN THE KINDS OF THINGS THAT WE HUMANS FIND BORING\n",
      "AND MIND-NUMBING\n"
     ]
    }
   ],
   "source": [
    "\"\"\"\n",
    "Write a program that prompts for a file name, then opens that file and reads through the file,\n",
    "and print the contents of the file in upper case. Use the file words.txt to produce the output below.\n",
    "You can download the sample data at http://www.py4e.com/code3/words.txt\n",
    "\"\"\"\n",
    "\n",
    "fname = input(\"Enter file name: \")\n",
    "\n",
    "if len(fname) <= 0:\n",
    "    fname = \"words.txt\"\n",
    "\n",
    "with open(fname) as f:\n",
    "    for line in f:\n",
    "        line = line.strip()\n",
    "        line  = line.upper()\n",
    "        print(line)"
   ]
  },
  {
   "cell_type": "code",
   "execution_count": 44,
   "id": "9679b552-64be-4275-8823-460c2383def8",
   "metadata": {},
   "outputs": [
    {
     "name": "stdout",
     "output_type": "stream",
     "text": [
      "0.8475\n"
     ]
    }
   ],
   "source": [
    "\"\"\"\n",
    "Write code using find() and string slicing to extract the number at the end\n",
    "of the line below. Convert the extracted value to a floating point number and print it out.\n",
    "\"\"\"\n",
    "\n",
    "text = \"X-DSPAM-Confidence:    0.8475\"\n",
    "\n",
    "position = text.find(\":\")\n",
    "number = text[position + 1:]\n",
    "number = number.strip()\n",
    "number = float(number)\n",
    "print(number)"
   ]
  },
  {
   "cell_type": "code",
   "execution_count": null,
   "id": "cc7f5559-87ba-4d8e-ac4a-95678805a530",
   "metadata": {},
   "outputs": [],
   "source": []
  }
 ],
 "metadata": {
  "kernelspec": {
   "display_name": "Python 3",
   "language": "python",
   "name": "python3"
  },
  "language_info": {
   "codemirror_mode": {
    "name": "ipython",
    "version": 3
   },
   "file_extension": ".py",
   "mimetype": "text/x-python",
   "name": "python",
   "nbconvert_exporter": "python",
   "pygments_lexer": "ipython3",
   "version": "3.13.3"
  }
 },
 "nbformat": 4,
 "nbformat_minor": 5
}
