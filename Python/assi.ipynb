{
 "cells": [
  {
   "cell_type": "markdown",
   "id": "f75abf81",
   "metadata": {},
   "source": [
    "# Question no 1"
   ]
  },
  {
   "cell_type": "code",
   "execution_count": null,
   "id": "1c9c3621",
   "metadata": {},
   "outputs": [
    {
     "name": "stdout",
     "output_type": "stream",
     "text": [
      "largest is 7\n",
      "samllest is 4\n"
     ]
    }
   ],
   "source": [
    "#Write a program that repeatedly prompts a user for integer numbers until the user enters 'done'. Once 'done' is entered,\n",
    "#print out the largest and smallest of the numbers.\n",
    "largest = None\n",
    "smallest = None\n",
    "while True:\n",
    "    user_input= input(\"Enter a integer(or done to end): \")\n",
    "    if user_input.upper() == 'DONE':\n",
    "        break\n",
    "    try:\n",
    "        num = int(user_input)\n",
    "        if largest is None or num > largest:\n",
    "            largest = num\n",
    "        if smallest is None or num  < smallest:\n",
    "            smallest = num\n",
    "    except ValueError:\n",
    "        print(\"wrong input. Please enter an integer number or 'done'.\")\n",
    "        \n",
    "\n",
    "if largest is not None and smallest is not None:\n",
    "    print(\"largest is\", largest)\n",
    "    print(\"samllest is\", smallest)\n",
    "\n",
    "\n",
    "\n",
    "\n"
   ]
  },
  {
   "cell_type": "markdown",
   "id": "42fe9bb5",
   "metadata": {},
   "source": [
    "# Question no 2"
   ]
  },
  {
   "cell_type": "code",
   "execution_count": 46,
   "id": "6e5f58ac",
   "metadata": {},
   "outputs": [
    {
     "name": "stdout",
     "output_type": "stream",
     "text": [
      "A\n",
      "A\n",
      "A\n",
      "F\n",
      "wrong input,please enter from 0.1 to 1.0\n",
      "wrong input,please enter from 0.1 to 1.0\n",
      "wrong input,please enter from 0.1 to 1.0\n",
      "B\n",
      "C\n"
     ]
    }
   ],
   "source": [
    "while True:\n",
    "     user_input= input(\"enter  a score between 0.0 and 1.0(or done to end):\")\n",
    "     if user_input.upper()=='DONE':\n",
    "          break\n",
    "     try:\n",
    "        num = float(user_input)\n",
    "        if num >= 0.9:\n",
    "            print(\"A\")\n",
    "        elif num >= 0.8:\n",
    "            print(\"B\")\n",
    "        elif num >= 0.7:\n",
    "            print(\"C\")\n",
    "        elif num >= 0.6:\n",
    "            print(\"D\")\n",
    "        else:\n",
    "            print(\"F\")\n",
    "     except ValueError:\n",
    "        print(\"wrong input,please enter from 0.1 to 1.0\")\n",
    "\n",
    "      \n",
    "\n"
   ]
  },
  {
   "cell_type": "markdown",
   "id": "d260d73a",
   "metadata": {},
   "source": [
    "# Question no 3"
   ]
  },
  {
   "cell_type": "code",
   "execution_count": 3,
   "id": "e83cba02",
   "metadata": {},
   "outputs": [
    {
     "name": "stdout",
     "output_type": "stream",
     "text": [
      "Try lower.\n",
      "Try higher.\n",
      "Try lower.\n",
      "Try lower.\n",
      "Try lower.\n",
      "Try lower.\n",
      "Try lower.\n",
      "You won!\n"
     ]
    }
   ],
   "source": [
    "import random\n",
    "\n",
    "r_number = random.randint(1, 100)\n",
    "\n",
    "while True:\n",
    "    try:\n",
    "  \n",
    "        num = int(input(\"Enter a number between 1 and 100: \"))\n",
    "\n",
    "      \n",
    "        if num == r_number:\n",
    "            print(\"You won!\")\n",
    "            break\n",
    "        elif num > r_number:\n",
    "            print(\"Try lower.\")\n",
    "        else:\n",
    "            print(\"Try higher.\")\n",
    "    except ValueError:\n",
    "        print(\"Please enter a valid number.\")\n",
    "\n",
    "\n",
    "\n",
    "\n"
   ]
  },
  {
   "cell_type": "code",
   "execution_count": 4,
   "id": "52176121",
   "metadata": {},
   "outputs": [
    {
     "name": "stdout",
     "output_type": "stream",
     "text": [
      "['Arise', 'But', 'It', 'Juliet', 'Who', 'already', 'and', 'breaks', 'east', 'envious', 'fair', 'grief', 'is', 'kill', 'light', 'moon', 'pale', 'sick', 'soft', 'sun', 'the', 'through', 'what', 'window', 'with', 'yonder']\n"
     ]
    }
   ],
   "source": [
    "\n",
    "\n",
    "filename = \"romeo.txt\"\n",
    "\n",
    "try:\n",
    "    with open(filename, 'r') as file:\n",
    "        assending_file = []\n",
    "\n",
    "        for line in file:\n",
    "            words = line.split()\n",
    "            for word in words:\n",
    "                if word not in assending_file:\n",
    "                    assending_file.append(word)\n",
    "\n",
    "        assending_file.sort()\n",
    "        print(assending_file)\n",
    "\n",
    "except FileNotFoundError:\n",
    "    print(f\"Error: The file '{filename}' was not found.\")\n"
   ]
  },
  {
   "cell_type": "code",
   "execution_count": 4,
   "id": "5f7476a1",
   "metadata": {},
   "outputs": [
    {
     "name": "stdout",
     "output_type": "stream",
     "text": [
      "Pay: 498.75\n"
     ]
    }
   ],
   "source": [
    "def computepay(hours, rate):\n",
    "    if hours > 40:\n",
    "        overtime = hours - 40\n",
    "        pay = (40 * rate) + (overtime * rate * 1.5)\n",
    "    else:\n",
    "        pay = hours * rate\n",
    "    return pay\n",
    "\n",
    "try:\n",
    "    hours_input = input(\"Enter Hours: \")\n",
    "    rate_input = input(\"Enter Rate per Hour: \")\n",
    "\n",
    "    hours = float(hours_input)\n",
    "    rate = float(rate_input)\n",
    "\n",
    "    gross_pay = computepay(hours, rate)\n",
    "    print(\"Pay:\", gross_pay)\n",
    "\n",
    "except ValueError:\n",
    "    print(\"Please enter numeric input.\")\n"
   ]
  },
  {
   "cell_type": "code",
   "execution_count": 2,
   "id": "6bc5e5a7",
   "metadata": {},
   "outputs": [
    {
     "name": "stdout",
     "output_type": "stream",
     "text": [
      "Average spam confidence: 0.7507185185185187\n"
     ]
    }
   ],
   "source": [
    "\n",
    "\n",
    "filename = input(\"Enter file name: \")\n",
    "\n",
    "try:\n",
    "    filehandle = open(filename)\n",
    "except FileNotFoundError:\n",
    "    print(\"File cannot be opened:\", filename)\n",
    "    exit()\n",
    "\n",
    "count = 0\n",
    "total = 0.0\n",
    "\n",
    "\n",
    "for line in filehandle:\n",
    "    if line.startswith(\"X-DSPAM-Confidence:\"):\n",
    "        colon_position = line.find(':')\n",
    "        number_string = line[colon_position+1:].strip()\n",
    "        try:\n",
    "            number = float(number_string)\n",
    "            total += number\n",
    "            count += 1\n",
    "        except ValueError:\n",
    "            continue \n",
    "if count > 0:\n",
    "    average = total / count\n",
    "    print(\"Average spam confidence:\", average)\n",
    "else:\n",
    "    print(\"No 'X-DSPAM-Confidence:' lines found.\")\n",
    "\n"
   ]
  },
  {
   "cell_type": "code",
   "execution_count": 1,
   "id": "dac27181",
   "metadata": {},
   "outputs": [
    {
     "name": "stdout",
     "output_type": "stream",
     "text": [
      "stephen.marquard@uct.ac.za\n",
      "louis@media.berkeley.edu\n",
      "zqian@umich.edu\n",
      "rjlowe@iupui.edu\n",
      "zqian@umich.edu\n",
      "rjlowe@iupui.edu\n",
      "cwen@iupui.edu\n",
      "cwen@iupui.edu\n",
      "gsilver@umich.edu\n",
      "gsilver@umich.edu\n",
      "zqian@umich.edu\n",
      "gsilver@umich.edu\n",
      "wagnermr@iupui.edu\n",
      "zqian@umich.edu\n",
      "antranig@caret.cam.ac.uk\n",
      "gopal.ramasammycook@gmail.com\n",
      "david.horwitz@uct.ac.za\n",
      "david.horwitz@uct.ac.za\n",
      "david.horwitz@uct.ac.za\n",
      "david.horwitz@uct.ac.za\n",
      "stephen.marquard@uct.ac.za\n",
      "louis@media.berkeley.edu\n",
      "louis@media.berkeley.edu\n",
      "ray@media.berkeley.edu\n",
      "cwen@iupui.edu\n",
      "cwen@iupui.edu\n",
      "cwen@iupui.edu\n",
      "There were 27 lines in the file with From as the first word\n"
     ]
    }
   ],
   "source": [
    "\n",
    "filename = input(\"Enter file name: \")\n",
    "\n",
    "try:\n",
    "    fhandle = open(filename)\n",
    "except FileNotFoundError:\n",
    "    print(\"File cannot be opened:\", filename)\n",
    "    exit()\n",
    "\n",
    "count = 0\n",
    "\n",
    "\n",
    "for line in fhandle:\n",
    "    line = line.strip()  \n",
    "    if line.startswith('From '): \n",
    "        words = line.split()\n",
    "        if len(words) >= 2:\n",
    "            print(words[1])  \n",
    "            count += 1\n",
    "\n",
    "print(\"There were\", count, \"lines in the file with From as the first word\")\n"
   ]
  },
  {
   "cell_type": "code",
   "execution_count": null,
   "id": "59a133da",
   "metadata": {},
   "outputs": [],
   "source": []
  }
 ],
 "metadata": {
  "kernelspec": {
   "display_name": "Python 3",
   "language": "python",
   "name": "python3"
  },
  "language_info": {
   "codemirror_mode": {
    "name": "ipython",
    "version": 3
   },
   "file_extension": ".py",
   "mimetype": "text/x-python",
   "name": "python",
   "nbconvert_exporter": "python",
   "pygments_lexer": "ipython3",
   "version": "3.13.3"
  }
 },
 "nbformat": 4,
 "nbformat_minor": 5
}
