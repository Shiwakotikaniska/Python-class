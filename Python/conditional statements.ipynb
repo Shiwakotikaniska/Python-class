{
 "cells": [
  {
   "cell_type": "markdown",
   "id": "a6aa10b5-cc65-4115-822b-7d6ea05fba8e",
   "metadata": {},
   "source": [
    "# Conditional Statements\n",
    "```\n",
    "if\n",
    "elif\n",
    "else\n",
    "```"
   ]
  },
  {
   "cell_type": "code",
   "execution_count": 12,
   "id": "64bcd7ed-7040-4174-8c59-b8bf4fc8b147",
   "metadata": {},
   "outputs": [
    {
     "name": "stdout",
     "output_type": "stream",
     "text": [
      "Outside of stmt\n"
     ]
    }
   ],
   "source": [
    "n = 5\n",
    "if n > 5:\n",
    "    print(f\"{n} is greater than 5.\")\n",
    "    \n",
    "print(\"Outside of stmt\")"
   ]
  },
  {
   "cell_type": "code",
   "execution_count": 13,
   "id": "d985dad9-fa6b-47a3-b43c-c4fc40bd69b8",
   "metadata": {},
   "outputs": [
    {
     "name": "stdout",
     "output_type": "stream",
     "text": [
      "You are above 18.\n"
     ]
    }
   ],
   "source": [
    "age = 19\n",
    "\n",
    "if age < 18:\n",
    "    print(\"You are below 18.\")\n",
    "else:\n",
    "    print(\"You are above 18.\")"
   ]
  },
  {
   "cell_type": "code",
   "execution_count": 15,
   "id": "82c7b19b-042a-4060-9dba-458192a7ef3f",
   "metadata": {},
   "outputs": [
    {
     "name": "stdout",
     "output_type": "stream",
     "text": [
      "You are 18.\n"
     ]
    }
   ],
   "source": [
    "age = 18\n",
    "\n",
    "if age < 18:\n",
    "    print(\"You are below 18.\")\n",
    "elif age > 18:\n",
    "    print(\"You are above 18.\")\n",
    "else:\n",
    "    print(\"You are 18.\")"
   ]
  },
  {
   "cell_type": "code",
   "execution_count": 18,
   "id": "51befeae-3cf4-48d8-8302-e72d06f32136",
   "metadata": {},
   "outputs": [
    {
     "name": "stdout",
     "output_type": "stream",
     "text": [
      "You are 18.\n"
     ]
    }
   ],
   "source": [
    "age = 18\n",
    "\n",
    "if age < 18:\n",
    "    print(\"You are below 18.\")\n",
    "else:\n",
    "    if age > 18:\n",
    "        print(\"You are above 18.\")\n",
    "    else:\n",
    "        print(\"You are 18.\")"
   ]
  },
  {
   "cell_type": "code",
   "execution_count": 17,
   "id": "9eebef60-4dc6-419d-90e5-7fc622271691",
   "metadata": {},
   "outputs": [
    {
     "data": {
      "text/plain": [
       "'You are 18'"
      ]
     },
     "execution_count": 17,
     "metadata": {},
     "output_type": "execute_result"
    }
   ],
   "source": [
    "\"You are above 18\" if age > 18 else \"You are below 18\" if age < 18 else \"You are 18\""
   ]
  },
  {
   "cell_type": "code",
   "execution_count": 22,
   "id": "40b673ba-f50b-4788-a1d2-cc29913cd1d8",
   "metadata": {},
   "outputs": [
    {
     "name": "stdout",
     "output_type": "stream",
     "text": [
      "Atleast one is negative\n"
     ]
    }
   ],
   "source": [
    "p = 2\n",
    "q = -1\n",
    "\n",
    "if p > 0 and q > 0:\n",
    "    print(f\"{p} and {q}, both are positive\")\n",
    "elif p < 0 or q < 0:\n",
    "    print(\"Atleast one is negative\")"
   ]
  },
  {
   "cell_type": "code",
   "execution_count": 33,
   "id": "4d2e8d5e-912d-44c7-98eb-300a3453c0b9",
   "metadata": {},
   "outputs": [
    {
     "name": "stdout",
     "output_type": "stream",
     "text": [
      "Some of them are equal\n"
     ]
    }
   ],
   "source": [
    "# Compare 3 numbers and find out larger\n",
    "p, q, r = 4, 44, 44\n",
    "\n",
    "if p > q and p > r:\n",
    "    print(f\"{p} is greater than {q} and {r}\")\n",
    "elif q > p and q > r:\n",
    "    print(f\"{q} is greater than {p} and {r}\")\n",
    "elif r > p and r > q:\n",
    "    print(f\"{r} is greater than {p} and {q}\")\n",
    "else:\n",
    "    print(\"Some of them are equal\")"
   ]
  },
  {
   "cell_type": "code",
   "execution_count": 36,
   "id": "1912cbb6-3dcc-42b5-b9a4-1257d599bef0",
   "metadata": {},
   "outputs": [
    {
     "name": "stdout",
     "output_type": "stream",
     "text": [
      "45 is greater than 4 and 4\n"
     ]
    }
   ],
   "source": [
    "# Compare 3 numbers and find out larger\n",
    "p, q, r = 4, 45, 4\n",
    "\n",
    "if p > q and p > r:\n",
    "    print(f\"{p} is greater than {q} and {r}\")\n",
    "elif q > r:\n",
    "    print(f\"{q} is greater than {p} and {r}\")\n",
    "elif r > p:\n",
    "    print(f\"{r} is greater than {p} and {q}\")\n",
    "else:\n",
    "    print(\"Some of them are equal\")"
   ]
  },
  {
   "cell_type": "code",
   "execution_count": 46,
   "id": "b57658a8-926c-4689-888b-d02617dba0cd",
   "metadata": {},
   "outputs": [
    {
     "name": "stdout",
     "output_type": "stream",
     "text": [
      "Some of them are equal\n"
     ]
    }
   ],
   "source": [
    "# Compare 3 numbers and find out larger\n",
    "p, q, r = 45, 44, 45\n",
    "\n",
    "largest = max (p, q, r)\n",
    "if p == q or q == r or p == r:\n",
    "    print(\"Some of them are equal\")\n",
    "else:\n",
    "    print(f\"{largest} is greater\")"
   ]
  },
  {
   "cell_type": "markdown",
   "id": "63f6affa-2eb8-45a5-8e9a-d4bdb4ab73bc",
   "metadata": {},
   "source": [
    "# Datetime"
   ]
  },
  {
   "cell_type": "code",
   "execution_count": 47,
   "id": "446f4714-5df2-4522-b081-544da251e5ba",
   "metadata": {},
   "outputs": [],
   "source": [
    "import datetime"
   ]
  },
  {
   "cell_type": "code",
   "execution_count": 52,
   "id": "f54369f8-c7fa-4eef-a86c-e2b504254a18",
   "metadata": {},
   "outputs": [
    {
     "name": "stdout",
     "output_type": "stream",
     "text": [
      "2025-05-12 08:43:09.979788\n"
     ]
    }
   ],
   "source": [
    "now = datetime.datetime.now()\n",
    "print(now)"
   ]
  },
  {
   "cell_type": "code",
   "execution_count": 51,
   "id": "8388424d-75e9-4f09-89d9-de6548fa9329",
   "metadata": {},
   "outputs": [
    {
     "name": "stdout",
     "output_type": "stream",
     "text": [
      "2025-05-12\n"
     ]
    }
   ],
   "source": [
    "today = datetime.date.today()\n",
    "print(today)"
   ]
  },
  {
   "cell_type": "code",
   "execution_count": 53,
   "id": "974e6445-9c10-4d3e-96de-7467826c3b5d",
   "metadata": {},
   "outputs": [
    {
     "name": "stdout",
     "output_type": "stream",
     "text": [
      "2025-05-11\n"
     ]
    }
   ],
   "source": [
    "yesterday = today - datetime.timedelta(days=1)\n",
    "print(yesterday)"
   ]
  },
  {
   "cell_type": "code",
   "execution_count": null,
   "id": "f804f905-8d0c-47d6-af8c-347be4fa86e8",
   "metadata": {},
   "outputs": [],
   "source": []
  }
 ],
 "metadata": {
  "kernelspec": {
   "display_name": "Python 3 (ipykernel)",
   "language": "python",
   "name": "python3"
  },
  "language_info": {
   "codemirror_mode": {
    "name": "ipython",
    "version": 3
   },
   "file_extension": ".py",
   "mimetype": "text/x-python",
   "name": "python",
   "nbconvert_exporter": "python",
   "pygments_lexer": "ipython3",
   "version": "3.13.3"
  }
 },
 "nbformat": 4,
 "nbformat_minor": 5
}
