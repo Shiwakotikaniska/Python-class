{
 "cells": [
  {
   "cell_type": "markdown",
   "id": "36a5ec1e-c7eb-465f-ba65-a548476f7ef2",
   "metadata": {},
   "source": [
    "# Functions\n",
    "- It is a block of resuable code that performs specific task and can take input (parameters) and return output\n",
    "- Define using `def` keyword\n",
    "```\n",
    "def function_name(parameters(optional)):\n",
    "    body of function\n",
    "    return something (optional)\n",
    "```\n",
    "\n",
    "- function declaration\n",
    "- function definition\n",
    "- function calling"
   ]
  },
  {
   "cell_type": "markdown",
   "id": "55e9f24b-be6e-40ef-9631-79647fdb2ea3",
   "metadata": {},
   "source": [
    "## No parameter, no return"
   ]
  },
  {
   "cell_type": "code",
   "execution_count": 4,
   "id": "aafd7639-d8be-422d-ade3-9e4b4c18f3f9",
   "metadata": {},
   "outputs": [],
   "source": [
    "# Definition of function\n",
    "def say_hello_world():\n",
    "    print(\"Helllo world!\")"
   ]
  },
  {
   "cell_type": "code",
   "execution_count": 5,
   "id": "62274f11-c69f-4799-8f00-68ef1d94c62a",
   "metadata": {},
   "outputs": [
    {
     "name": "stdout",
     "output_type": "stream",
     "text": [
      "Helllo world!\n"
     ]
    }
   ],
   "source": [
    "# Calling a function\n",
    "say_hello_world()"
   ]
  },
  {
   "cell_type": "markdown",
   "id": "3289d587-bd1f-4751-8792-df79652ebf64",
   "metadata": {},
   "source": [
    "## Parameter but no return"
   ]
  },
  {
   "cell_type": "code",
   "execution_count": 6,
   "id": "275586a9-8594-43c0-a34e-9b375a2a6ab1",
   "metadata": {},
   "outputs": [],
   "source": [
    "def greet(name):\n",
    "    print(f\"Hello, {name}\")"
   ]
  },
  {
   "cell_type": "code",
   "execution_count": 8,
   "id": "0239267d-beb2-4378-9f26-9e756a268306",
   "metadata": {},
   "outputs": [
    {
     "name": "stdout",
     "output_type": "stream",
     "text": [
      "Hello, Ram\n"
     ]
    }
   ],
   "source": [
    "greet(\"Ram\")"
   ]
  },
  {
   "cell_type": "code",
   "execution_count": 9,
   "id": "506e4c87-42b0-4fd5-ba72-75db6cf10906",
   "metadata": {},
   "outputs": [
    {
     "name": "stdout",
     "output_type": "stream",
     "text": [
      "Hello, Shyam\n"
     ]
    }
   ],
   "source": [
    "greet(\"Shyam\")"
   ]
  },
  {
   "cell_type": "code",
   "execution_count": 10,
   "id": "9f0126e9-c730-46b7-bed5-ab2fc6b0294a",
   "metadata": {},
   "outputs": [
    {
     "name": "stdout",
     "output_type": "stream",
     "text": [
      "Hello, Hari\n"
     ]
    }
   ],
   "source": [
    "greet(\"Hari\")"
   ]
  },
  {
   "cell_type": "markdown",
   "id": "21c6f1e1-86e1-4f82-8574-dd4f7c6ab98c",
   "metadata": {},
   "source": [
    "## Parameter and return"
   ]
  },
  {
   "cell_type": "code",
   "execution_count": 11,
   "id": "cdc0f113-bc12-409f-997a-a792daf435ed",
   "metadata": {},
   "outputs": [],
   "source": [
    "def sum (a, b):\n",
    "    s = a + b\n",
    "    return s"
   ]
  },
  {
   "cell_type": "code",
   "execution_count": 13,
   "id": "83cd592e-ecde-4e9c-a92a-cd25a92cf9ea",
   "metadata": {},
   "outputs": [
    {
     "name": "stdout",
     "output_type": "stream",
     "text": [
      "7\n"
     ]
    }
   ],
   "source": [
    "s = sum(3, 4)\n",
    "print(s)"
   ]
  },
  {
   "cell_type": "code",
   "execution_count": 14,
   "id": "ce55c9e5-09ca-42ee-aa5b-2a0184bde9cb",
   "metadata": {},
   "outputs": [
    {
     "name": "stdout",
     "output_type": "stream",
     "text": [
      "11\n"
     ]
    }
   ],
   "source": [
    "print(sum(5, 6))"
   ]
  },
  {
   "cell_type": "code",
   "execution_count": 15,
   "id": "f5f4b60d-b497-4c4a-b413-7befaa3a40fa",
   "metadata": {},
   "outputs": [
    {
     "name": "stdout",
     "output_type": "stream",
     "text": [
      "11.899999999999999\n"
     ]
    }
   ],
   "source": [
    "print(sum(5.6, 6.3))"
   ]
  },
  {
   "cell_type": "code",
   "execution_count": 16,
   "id": "247e100d-37cf-4911-afa3-54dc0f74257e",
   "metadata": {},
   "outputs": [
    {
     "data": {
      "text/plain": [
       "57"
      ]
     },
     "execution_count": 16,
     "metadata": {},
     "output_type": "execute_result"
    }
   ],
   "source": [
    "sum(55, 2)"
   ]
  },
  {
   "cell_type": "code",
   "execution_count": 27,
   "id": "0b7c2194-9c3f-4468-aec4-0c5129ff076d",
   "metadata": {},
   "outputs": [],
   "source": [
    "def multiply (a, b, c):\n",
    "    return a * b * c"
   ]
  },
  {
   "cell_type": "code",
   "execution_count": 28,
   "id": "f3be3ea7-d494-45c5-8823-a939a9742f23",
   "metadata": {},
   "outputs": [
    {
     "data": {
      "text/plain": [
       "6"
      ]
     },
     "execution_count": 28,
     "metadata": {},
     "output_type": "execute_result"
    }
   ],
   "source": [
    "multiply(1, 2, 3)"
   ]
  },
  {
   "cell_type": "code",
   "execution_count": 29,
   "id": "28625c99-2196-4d8d-95ea-0670043bfd8b",
   "metadata": {},
   "outputs": [],
   "source": [
    "def multiply (a, b):\n",
    "    return a * b"
   ]
  },
  {
   "cell_type": "code",
   "execution_count": 30,
   "id": "ff1407be-138d-438d-a32d-23dbc5cda5f5",
   "metadata": {},
   "outputs": [
    {
     "data": {
      "text/plain": [
       "20"
      ]
     },
     "execution_count": 30,
     "metadata": {},
     "output_type": "execute_result"
    }
   ],
   "source": [
    "multiply(4, 5)"
   ]
  },
  {
   "cell_type": "markdown",
   "id": "f303c11a-2b92-49dc-a808-0cf4f2442de7",
   "metadata": {},
   "source": [
    "## Default Argument"
   ]
  },
  {
   "cell_type": "code",
   "execution_count": 35,
   "id": "98e632dd-c4a1-4272-8be1-8ce1c5768b50",
   "metadata": {},
   "outputs": [],
   "source": [
    "def multiply(a, b=1, c=1):\n",
    "    return a * b * c"
   ]
  },
  {
   "cell_type": "code",
   "execution_count": 36,
   "id": "18e31efe-a9a1-4ae0-b518-86fcef4c6111",
   "metadata": {},
   "outputs": [
    {
     "data": {
      "text/plain": [
       "27"
      ]
     },
     "execution_count": 36,
     "metadata": {},
     "output_type": "execute_result"
    }
   ],
   "source": [
    "multiply(3, 3, 3)"
   ]
  },
  {
   "cell_type": "code",
   "execution_count": 37,
   "id": "4cca08bc-5e71-4878-81b7-81db449e4737",
   "metadata": {},
   "outputs": [
    {
     "data": {
      "text/plain": [
       "16"
      ]
     },
     "execution_count": 37,
     "metadata": {},
     "output_type": "execute_result"
    }
   ],
   "source": [
    "multiply(4, 4)"
   ]
  },
  {
   "cell_type": "code",
   "execution_count": 38,
   "id": "15483e77-2fac-4b2f-9a5f-bd69664e4a91",
   "metadata": {},
   "outputs": [
    {
     "data": {
      "text/plain": [
       "5"
      ]
     },
     "execution_count": 38,
     "metadata": {},
     "output_type": "execute_result"
    }
   ],
   "source": [
    "multiply(5)"
   ]
  },
  {
   "cell_type": "code",
   "execution_count": 13,
   "id": "08051a35-24ee-4462-81a3-7b701bea4e9a",
   "metadata": {},
   "outputs": [],
   "source": [
    "def display_info(name, age, *args):\n",
    "    print(f\"Name: {name}\")\n",
    "    print(f\"Age: {age}\")\n",
    "\n",
    "    if len(args) > 0:\n",
    "        print(f\"Address: {args[0]}\")\n",
    "    if len(args) > 1:\n",
    "        print(f\"Working: {args[1]}\")"
   ]
  },
  {
   "cell_type": "code",
   "execution_count": 14,
   "id": "e3e800a5-e90c-4371-b2a1-abecf5be4e0a",
   "metadata": {},
   "outputs": [
    {
     "name": "stdout",
     "output_type": "stream",
     "text": [
      "Name: Ram\n",
      "Age: 21\n"
     ]
    }
   ],
   "source": [
    "display_info(\"Ram\", 21)"
   ]
  },
  {
   "cell_type": "code",
   "execution_count": 15,
   "id": "e10f0619-80eb-44b5-8c6f-1d37667d66c0",
   "metadata": {},
   "outputs": [
    {
     "name": "stdout",
     "output_type": "stream",
     "text": [
      "Name: Ram\n",
      "Age: 21\n",
      "Address: Kathmandu\n",
      "Working: Not yet\n"
     ]
    }
   ],
   "source": [
    "display_info(\"Ram\", 21, \"Kathmandu\", \"Not yet\")"
   ]
  },
  {
   "cell_type": "code",
   "execution_count": 16,
   "id": "48d3f5d2-3771-4ced-a27a-33301ecf1c5d",
   "metadata": {},
   "outputs": [],
   "source": [
    "# name = \"Hari\"\n",
    "# age = 20\n",
    "# address = \"Kathmandu\"\n",
    "# working = \"Not Yet\""
   ]
  },
  {
   "cell_type": "code",
   "execution_count": 17,
   "id": "50b8b29b-7fa6-4392-8abd-a5c0b65ad1d8",
   "metadata": {},
   "outputs": [],
   "source": [
    "# display_info(name, age)"
   ]
  },
  {
   "cell_type": "code",
   "execution_count": 18,
   "id": "374da168-eb16-412e-871d-fd912f909829",
   "metadata": {},
   "outputs": [],
   "source": [
    "# display_info(name, age, address, working)"
   ]
  },
  {
   "cell_type": "code",
   "execution_count": 15,
   "id": "d2680713-b96d-41be-8ce7-7ae315ea1833",
   "metadata": {},
   "outputs": [],
   "source": [
    "def my_info(*args, **kwargs):\n",
    "    print(\"Positional arguments:\")\n",
    "    print(args)\n",
    "    for item in args:\n",
    "        print(item)\n",
    "    print(\"Keyword arguments:\")\n",
    "    print(kwargs)\n",
    "    for item in kwargs:\n",
    "        print(f\"{item}: {kwargs[item]}\")"
   ]
  },
  {
   "cell_type": "code",
   "execution_count": 16,
   "id": "ba38d5e5-ccc1-41f1-a7ac-dab573216e8b",
   "metadata": {},
   "outputs": [
    {
     "name": "stdout",
     "output_type": "stream",
     "text": [
      "Positional arguments:\n",
      "('Kathmandu', 1, 2)\n",
      "Kathmandu\n",
      "1\n",
      "2\n",
      "Keyword arguments:\n",
      "{'name': 'Ram', 'age': 21}\n",
      "name: Ram\n",
      "age: 21\n"
     ]
    }
   ],
   "source": [
    "my_info(\"Kathmandu\", 1,2, name=\"Ram\", age=21)"
   ]
  },
  {
   "cell_type": "code",
   "execution_count": null,
   "id": "5fad8e43-94ef-41fb-b5ae-77a58a98f725",
   "metadata": {},
   "outputs": [],
   "source": []
  }
 ],
 "metadata": {
  "kernelspec": {
   "display_name": "Python 3 (ipykernel)",
   "language": "python",
   "name": "python3"
  },
  "language_info": {
   "codemirror_mode": {
    "name": "ipython",
    "version": 3
   },
   "file_extension": ".py",
   "mimetype": "text/x-python",
   "name": "python",
   "nbconvert_exporter": "python",
   "pygments_lexer": "ipython3",
   "version": "3.13.3"
  }
 },
 "nbformat": 4,
 "nbformat_minor": 5
}
