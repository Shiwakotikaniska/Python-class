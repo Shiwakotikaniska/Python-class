{
 "cells": [
  {
   "cell_type": "markdown",
   "id": "18f43e97-face-4408-a9c6-5a64aa8e4bce",
   "metadata": {},
   "source": [
    "# User Input"
   ]
  },
  {
   "cell_type": "code",
   "execution_count": 5,
   "id": "fbd2e35b-077b-4bd5-99e2-827fd9b6e13f",
   "metadata": {},
   "outputs": [
    {
     "name": "stdin",
     "output_type": "stream",
     "text": [
      "Enter your age:  12\n"
     ]
    },
    {
     "name": "stdout",
     "output_type": "stream",
     "text": [
      "You are below 18.\n"
     ]
    }
   ],
   "source": [
    "age = int(input(\"Enter your age: \"))\n",
    "COND = 18\n",
    "\n",
    "# age = int(age)\n",
    "if age < COND:\n",
    "    print(f\"You are below {COND}.\")\n",
    "elif age > COND:\n",
    "    print(f\"You are above {COND}.\")\n",
    "else:\n",
    "    print(f\"You are {COND}.\")"
   ]
  },
  {
   "cell_type": "markdown",
   "id": "12305974-69c7-4bab-bab5-b987d67f4703",
   "metadata": {},
   "source": [
    "# Exception Handling"
   ]
  },
  {
   "cell_type": "code",
   "execution_count": 7,
   "id": "8f30bbb5-c628-468c-bcdf-de8b75dac7c9",
   "metadata": {},
   "outputs": [
    {
     "name": "stdin",
     "output_type": "stream",
     "text": [
      "Enter your age:  twelve\n"
     ]
    },
    {
     "name": "stdout",
     "output_type": "stream",
     "text": [
      "Invalid Input\n"
     ]
    }
   ],
   "source": [
    "# Handling global exception\n",
    "COND = 18\n",
    "\n",
    "try:\n",
    "    age = int(input(\"Enter your age: \"))\n",
    "    # age = int(age)\n",
    "    if age < COND:\n",
    "        print(f\"You are below {COND}.\")\n",
    "    elif age > COND:\n",
    "        print(f\"You are above {COND}.\")\n",
    "    else:\n",
    "        print(f\"You are {COND}.\")\n",
    "except:\n",
    "    print(\"Invalid Input\")"
   ]
  },
  {
   "cell_type": "code",
   "execution_count": 12,
   "id": "fbf477c4-39a2-4ac1-8924-3fbd7edc77b0",
   "metadata": {},
   "outputs": [
    {
     "name": "stdin",
     "output_type": "stream",
     "text": [
      "Enter your age:  wef\n"
     ]
    },
    {
     "name": "stdout",
     "output_type": "stream",
     "text": [
      "Error: Input must be integer\n",
      "Done\n"
     ]
    }
   ],
   "source": [
    "# Handling global exception\n",
    "COND = 18\n",
    "\n",
    "try:\n",
    "    age = int(input(\"Enter your age: \"))\n",
    "    # age = int(age)\n",
    "    if age < COND:\n",
    "        print(f\"You are below {COND}.\")\n",
    "    elif age > COND:\n",
    "        print(f\"You are above {COND}.\")\n",
    "    else:\n",
    "        print(f\"You are {COND}.\")\n",
    "except ValueError:\n",
    "    print(\"Error: Input must be integer\")\n",
    "except:\n",
    "    print(\"Something wrong\")\n",
    "finally:\n",
    "    print(\"Done\")"
   ]
  },
  {
   "cell_type": "code",
   "execution_count": 18,
   "id": "59bdda32-ebb8-45be-b211-98627aa141af",
   "metadata": {},
   "outputs": [],
   "source": [
    "# WAP that takes two numbers as Input from user, and find out their division. Use exception handling.\n",
    "# eg. Inputs a, b = 6, 3\n",
    "#     Output: 6 / 3 = 2"
   ]
  },
  {
   "cell_type": "code",
   "execution_count": 21,
   "id": "2130cf28-b05a-4d39-b06f-c74e888e8ca1",
   "metadata": {},
   "outputs": [
    {
     "name": "stdin",
     "output_type": "stream",
     "text": [
      "Enter first number:  0\n",
      "Enter second number:  9\n"
     ]
    },
    {
     "name": "stdout",
     "output_type": "stream",
     "text": [
      "0 / 9 = 0.0\n"
     ]
    }
   ],
   "source": [
    "try:\n",
    "    a = int(input(\"Enter first number: \"))\n",
    "    b = int(input(\"Enter second number: \"))\n",
    "\n",
    "    result = a / b\n",
    "    print(f\"{a} / {b} = {result}\")\n",
    "except ValueError:\n",
    "    print(\"Hint: Enter valid\")   \n",
    "except ZeroDivisionError:\n",
    "    print(\"Hint: Can not divide by 0\")\n",
    "except:\n",
    "    print(\"Something wrong, try again.\")"
   ]
  },
  {
   "cell_type": "code",
   "execution_count": null,
   "id": "f5153a27-511d-41fc-a4a5-2b3bb5f8d57c",
   "metadata": {},
   "outputs": [],
   "source": []
  }
 ],
 "metadata": {
  "kernelspec": {
   "display_name": "Python 3 (ipykernel)",
   "language": "python",
   "name": "python3"
  },
  "language_info": {
   "codemirror_mode": {
    "name": "ipython",
    "version": 3
   },
   "file_extension": ".py",
   "mimetype": "text/x-python",
   "name": "python",
   "nbconvert_exporter": "python",
   "pygments_lexer": "ipython3",
   "version": "3.13.3"
  }
 },
 "nbformat": 4,
 "nbformat_minor": 5
}
