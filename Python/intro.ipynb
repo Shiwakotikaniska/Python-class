{
 "cells": [
  {
   "cell_type": "markdown",
   "id": "76518428-f080-4891-bc56-0b17c11d9900",
   "metadata": {},
   "source": [
    "# Intro to python"
   ]
  },
  {
   "cell_type": "code",
   "execution_count": 27,
   "id": "c9cdf00e-6051-4d46-b09f-b07b0f7d19c4",
   "metadata": {},
   "outputs": [
    {
     "name": "stdout",
     "output_type": "stream",
     "text": [
      "Hello, World\n"
     ]
    }
   ],
   "source": [
    "# Print Hello, World\n",
    "# print() -> Built in Function\n",
    "# \"Hello, World\" -> Argument (string)\n",
    "\n",
    "print(\"Hello, World\")"
   ]
  },
  {
   "cell_type": "code",
   "execution_count": 26,
   "id": "dc0d29ba-1e32-4482-b2db-fe682c191385",
   "metadata": {},
   "outputs": [
    {
     "name": "stdout",
     "output_type": "stream",
     "text": [
      "Hello, World \n",
      "Nepal\n"
     ]
    }
   ],
   "source": [
    "\"\"\"\n",
    "Again printing hello world\n",
    "with \\n\n",
    "\"\"\"\n",
    "\n",
    "print('Hello, World \\nNepal')"
   ]
  },
  {
   "cell_type": "code",
   "execution_count": 39,
   "id": "d16e1ba4-1e9e-466a-8f46-7e0d8f470f34",
   "metadata": {},
   "outputs": [
    {
     "name": "stdout",
     "output_type": "stream",
     "text": [
      "my name is \"Ram\"\n",
      "my name is \"Ram\"\n"
     ]
    }
   ],
   "source": [
    "# write print statement whose o/is is: my name is \"Ram\"\n",
    "\n",
    "print('my name is \"Ram\"')\n",
    "print(\"my name is \\\"Ram\\\"\")"
   ]
  },
  {
   "cell_type": "code",
   "execution_count": 34,
   "id": "5fd65135-0b22-4a46-af7b-3d4b41bede98",
   "metadata": {},
   "outputs": [
    {
     "name": "stdout",
     "output_type": "stream",
     "text": [
      "my name is Ram\n",
      "my name is Ram\n"
     ]
    }
   ],
   "source": [
    "print(\"my name is\", \"Ram\")\n",
    "print(\"my name is \" + \"Ram\")"
   ]
  },
  {
   "cell_type": "code",
   "execution_count": 43,
   "id": "f392461f-2c74-4274-82b3-59e38ffbf3b9",
   "metadata": {},
   "outputs": [
    {
     "data": {
      "text/plain": [
       "['__call__',\n",
       " '__class__',\n",
       " '__delattr__',\n",
       " '__dir__',\n",
       " '__doc__',\n",
       " '__eq__',\n",
       " '__format__',\n",
       " '__ge__',\n",
       " '__getattribute__',\n",
       " '__getstate__',\n",
       " '__gt__',\n",
       " '__hash__',\n",
       " '__init__',\n",
       " '__init_subclass__',\n",
       " '__le__',\n",
       " '__lt__',\n",
       " '__module__',\n",
       " '__name__',\n",
       " '__ne__',\n",
       " '__new__',\n",
       " '__qualname__',\n",
       " '__reduce__',\n",
       " '__reduce_ex__',\n",
       " '__repr__',\n",
       " '__self__',\n",
       " '__setattr__',\n",
       " '__sizeof__',\n",
       " '__str__',\n",
       " '__subclasshook__',\n",
       " '__text_signature__']"
      ]
     },
     "execution_count": 43,
     "metadata": {},
     "output_type": "execute_result"
    }
   ],
   "source": [
    "dir(print)"
   ]
  },
  {
   "cell_type": "code",
   "execution_count": null,
   "id": "dfa1d8ca-8aa8-4283-8666-365333881ba7",
   "metadata": {},
   "outputs": [],
   "source": []
  }
 ],
 "metadata": {
  "kernelspec": {
   "display_name": "Python 3 (ipykernel)",
   "language": "python",
   "name": "python3"
  },
  "language_info": {
   "codemirror_mode": {
    "name": "ipython",
    "version": 3
   },
   "file_extension": ".py",
   "mimetype": "text/x-python",
   "name": "python",
   "nbconvert_exporter": "python",
   "pygments_lexer": "ipython3",
   "version": "3.13.3"
  }
 },
 "nbformat": 4,
 "nbformat_minor": 5
}
