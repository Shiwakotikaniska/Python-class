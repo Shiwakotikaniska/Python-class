{
 "cells": [
  {
   "cell_type": "markdown",
   "id": "f6503f35-eebd-48c3-80de-4ed39042adcd",
   "metadata": {},
   "source": [
    "# Disctionary\n",
    "\n",
    "```\n",
    "key: value\n",
    "```"
   ]
  },
  {
   "cell_type": "code",
   "execution_count": 2,
   "id": "2eb55aa3-bd51-4c33-8d2d-2025038344ec",
   "metadata": {},
   "outputs": [
    {
     "data": {
      "text/plain": [
       "{}"
      ]
     },
     "execution_count": 2,
     "metadata": {},
     "output_type": "execute_result"
    }
   ],
   "source": [
    "d = {}\n",
    "d"
   ]
  },
  {
   "cell_type": "code",
   "execution_count": 3,
   "id": "4e3171e7-6ab8-43bd-aea7-47976b86aadb",
   "metadata": {},
   "outputs": [
    {
     "data": {
      "text/plain": [
       "{}"
      ]
     },
     "execution_count": 3,
     "metadata": {},
     "output_type": "execute_result"
    }
   ],
   "source": [
    "d = dict()\n",
    "d"
   ]
  },
  {
   "cell_type": "code",
   "execution_count": 4,
   "id": "fdc8c2da-0e10-44be-af60-56f8cefbc7d6",
   "metadata": {},
   "outputs": [
    {
     "data": {
      "text/plain": [
       "{'key': 'value'}"
      ]
     },
     "execution_count": 4,
     "metadata": {},
     "output_type": "execute_result"
    }
   ],
   "source": [
    "d = {'key': 'value'}\n",
    "d"
   ]
  },
  {
   "cell_type": "code",
   "execution_count": 10,
   "id": "136d97ad-64b0-4673-a022-f8f3d2aa3c3e",
   "metadata": {},
   "outputs": [
    {
     "data": {
      "text/plain": [
       "{'key': 'val'}"
      ]
     },
     "execution_count": 10,
     "metadata": {},
     "output_type": "execute_result"
    }
   ],
   "source": [
    "dis = {k:v for k, v in [('key', 'val')]}\n",
    "dis"
   ]
  },
  {
   "cell_type": "code",
   "execution_count": 11,
   "id": "34c951c9-223e-45f7-938a-bd9d1567167e",
   "metadata": {},
   "outputs": [
    {
     "data": {
      "text/plain": [
       "{'name': 'Ram', 'address': 'Kathmandu', 'age': 21}"
      ]
     },
     "execution_count": 11,
     "metadata": {},
     "output_type": "execute_result"
    }
   ],
   "source": [
    "info = {\n",
    "    \"name\": \"Ram\",\n",
    "    \"address\": \"Kathmandu\",\n",
    "    \"age\": 21\n",
    "}\n",
    "info"
   ]
  },
  {
   "cell_type": "code",
   "execution_count": 13,
   "id": "d74dc38f-9b88-4712-bf8c-32b4a434f0ef",
   "metadata": {},
   "outputs": [
    {
     "data": {
      "text/plain": [
       "21"
      ]
     },
     "execution_count": 13,
     "metadata": {},
     "output_type": "execute_result"
    }
   ],
   "source": [
    "info['age']"
   ]
  },
  {
   "cell_type": "code",
   "execution_count": 14,
   "id": "9fc3dad0-7f1c-417d-a04d-d386a2832f2a",
   "metadata": {},
   "outputs": [
    {
     "name": "stdout",
     "output_type": "stream",
     "text": [
      "name\n",
      "address\n",
      "age\n"
     ]
    }
   ],
   "source": [
    "for i in info:\n",
    "    print(i)"
   ]
  },
  {
   "cell_type": "code",
   "execution_count": 17,
   "id": "10137155-8d91-4d57-a356-c8e4856f7f98",
   "metadata": {},
   "outputs": [
    {
     "name": "stdout",
     "output_type": "stream",
     "text": [
      "name = Ram\n",
      "address = Kathmandu\n",
      "age = 21\n"
     ]
    }
   ],
   "source": [
    "for i in info:\n",
    "    print(i, \"=\", info[i])"
   ]
  },
  {
   "cell_type": "code",
   "execution_count": 18,
   "id": "82ce3f7a-ada8-47ab-9386-e5af2b918014",
   "metadata": {},
   "outputs": [],
   "source": [
    "info[\"working\"] = \"Not yet\""
   ]
  },
  {
   "cell_type": "code",
   "execution_count": 19,
   "id": "40d7b32c-8c17-457f-84be-843a0d1b1703",
   "metadata": {},
   "outputs": [
    {
     "data": {
      "text/plain": [
       "{'name': 'Ram', 'address': 'Kathmandu', 'age': 21, 'working': 'Not yet'}"
      ]
     },
     "execution_count": 19,
     "metadata": {},
     "output_type": "execute_result"
    }
   ],
   "source": [
    "info"
   ]
  },
  {
   "cell_type": "code",
   "execution_count": 21,
   "id": "085d558f-18be-4f5e-bd3e-6ddfe09005db",
   "metadata": {},
   "outputs": [
    {
     "name": "stdout",
     "output_type": "stream",
     "text": [
      "name = Ram\n",
      "address = Kathmandu\n",
      "age = 21\n",
      "working = Not yet\n"
     ]
    }
   ],
   "source": [
    "for k, v in info.items():\n",
    "    print(k, \"=\", v)"
   ]
  },
  {
   "cell_type": "code",
   "execution_count": 22,
   "id": "86ee7dad-94e0-48db-9231-9bfa20547e46",
   "metadata": {},
   "outputs": [
    {
     "data": {
      "text/plain": [
       "{'a': [1, 2, 3], 'b': ['one', 'two', 'three']}"
      ]
     },
     "execution_count": 22,
     "metadata": {},
     "output_type": "execute_result"
    }
   ],
   "source": [
    "dis = {\n",
    "    \"a\": [1, 2, 3],\n",
    "    \"b\": [\"one\", \"two\", \"three\"]\n",
    "}\n",
    "\n",
    "dis"
   ]
  },
  {
   "cell_type": "code",
   "execution_count": 23,
   "id": "393f0741-92a1-40a5-bce3-9f1760324e83",
   "metadata": {},
   "outputs": [
    {
     "data": {
      "text/plain": [
       "{'name': 'Ram',\n",
       " 'address': 'Kathmandu',\n",
       " 'age': 21,\n",
       " 'working': 'Not yet',\n",
       " 'a': [1, 2, 3],\n",
       " 'b': ['one', 'two', 'three']}"
      ]
     },
     "execution_count": 23,
     "metadata": {},
     "output_type": "execute_result"
    }
   ],
   "source": [
    "new_dis = {**info, **dis}\n",
    "new_dis"
   ]
  },
  {
   "cell_type": "code",
   "execution_count": 24,
   "id": "97791f1e-52c1-43a5-b272-e7b31f44bf34",
   "metadata": {},
   "outputs": [
    {
     "name": "stdout",
     "output_type": "stream",
     "text": [
      "name: Ram\n",
      "address: Kathmandu\n",
      "age: 21\n",
      "working: Not yet\n",
      "a: [1, 2, 3]\n",
      "b: ['one', 'two', 'three']\n"
     ]
    }
   ],
   "source": [
    "for k, v in new_dis.items():\n",
    "    print(f\"{k}: {v}\")"
   ]
  },
  {
   "cell_type": "markdown",
   "id": "1c661f79-20a1-4204-8c32-5ca824a35a46",
   "metadata": {},
   "source": [
    "# Other data structures"
   ]
  },
  {
   "cell_type": "code",
   "execution_count": 25,
   "id": "b7a9e5ac-369f-4797-877c-2857de3e74dd",
   "metadata": {},
   "outputs": [],
   "source": [
    "# tuple"
   ]
  },
  {
   "cell_type": "code",
   "execution_count": 26,
   "id": "5139e34d-b243-4ebf-a7a2-ea2f91c3de07",
   "metadata": {},
   "outputs": [
    {
     "data": {
      "text/plain": [
       "()"
      ]
     },
     "execution_count": 26,
     "metadata": {},
     "output_type": "execute_result"
    }
   ],
   "source": [
    "tpl = tuple()\n",
    "tpl"
   ]
  },
  {
   "cell_type": "code",
   "execution_count": 27,
   "id": "54289d2a-bdcc-456c-b062-bf877ae12f32",
   "metadata": {},
   "outputs": [
    {
     "data": {
      "text/plain": [
       "()"
      ]
     },
     "execution_count": 27,
     "metadata": {},
     "output_type": "execute_result"
    }
   ],
   "source": [
    "tpl = ()\n",
    "tpl"
   ]
  },
  {
   "cell_type": "code",
   "execution_count": 28,
   "id": "9968e869-c79d-4eac-9cd2-caf411966e3e",
   "metadata": {},
   "outputs": [
    {
     "data": {
      "text/plain": [
       "(1, 3)"
      ]
     },
     "execution_count": 28,
     "metadata": {},
     "output_type": "execute_result"
    }
   ],
   "source": [
    "tpl = (1, 3)\n",
    "tpl"
   ]
  },
  {
   "cell_type": "code",
   "execution_count": 29,
   "id": "75b3d728-5ea4-41e1-8489-715eb1a65b71",
   "metadata": {},
   "outputs": [
    {
     "ename": "AttributeError",
     "evalue": "'tuple' object has no attribute 'append'",
     "output_type": "error",
     "traceback": [
      "\u001b[31m---------------------------------------------------------------------------\u001b[39m",
      "\u001b[31mAttributeError\u001b[39m                            Traceback (most recent call last)",
      "\u001b[36mCell\u001b[39m\u001b[36m \u001b[39m\u001b[32mIn[29]\u001b[39m\u001b[32m, line 1\u001b[39m\n\u001b[32m----> \u001b[39m\u001b[32m1\u001b[39m \u001b[43mtpl\u001b[49m\u001b[43m.\u001b[49m\u001b[43mappend\u001b[49m(\u001b[32m4\u001b[39m)\n",
      "\u001b[31mAttributeError\u001b[39m: 'tuple' object has no attribute 'append'"
     ]
    }
   ],
   "source": [
    "tpl.append(4)"
   ]
  },
  {
   "cell_type": "code",
   "execution_count": 31,
   "id": "ed926051-2153-4ea4-b06d-fa013db3d647",
   "metadata": {},
   "outputs": [
    {
     "ename": "AttributeError",
     "evalue": "'tuple' object has no attribute 'remove'",
     "output_type": "error",
     "traceback": [
      "\u001b[31m---------------------------------------------------------------------------\u001b[39m",
      "\u001b[31mAttributeError\u001b[39m                            Traceback (most recent call last)",
      "\u001b[36mCell\u001b[39m\u001b[36m \u001b[39m\u001b[32mIn[31]\u001b[39m\u001b[32m, line 1\u001b[39m\n\u001b[32m----> \u001b[39m\u001b[32m1\u001b[39m \u001b[43mtpl\u001b[49m\u001b[43m.\u001b[49m\u001b[43mremove\u001b[49m(\u001b[32m1\u001b[39m)\n",
      "\u001b[31mAttributeError\u001b[39m: 'tuple' object has no attribute 'remove'"
     ]
    }
   ],
   "source": [
    "tpl.remove(1)"
   ]
  },
  {
   "cell_type": "code",
   "execution_count": 32,
   "id": "8c88de6b-2f9e-40c3-bad4-79b3c0cd3716",
   "metadata": {},
   "outputs": [
    {
     "data": {
      "text/plain": [
       "['__add__',\n",
       " '__class__',\n",
       " '__class_getitem__',\n",
       " '__contains__',\n",
       " '__delattr__',\n",
       " '__dir__',\n",
       " '__doc__',\n",
       " '__eq__',\n",
       " '__format__',\n",
       " '__ge__',\n",
       " '__getattribute__',\n",
       " '__getitem__',\n",
       " '__getnewargs__',\n",
       " '__getstate__',\n",
       " '__gt__',\n",
       " '__hash__',\n",
       " '__init__',\n",
       " '__init_subclass__',\n",
       " '__iter__',\n",
       " '__le__',\n",
       " '__len__',\n",
       " '__lt__',\n",
       " '__mul__',\n",
       " '__ne__',\n",
       " '__new__',\n",
       " '__reduce__',\n",
       " '__reduce_ex__',\n",
       " '__repr__',\n",
       " '__rmul__',\n",
       " '__setattr__',\n",
       " '__sizeof__',\n",
       " '__str__',\n",
       " '__subclasshook__',\n",
       " 'count',\n",
       " 'index']"
      ]
     },
     "execution_count": 32,
     "metadata": {},
     "output_type": "execute_result"
    }
   ],
   "source": [
    "dir(tuple)"
   ]
  },
  {
   "cell_type": "code",
   "execution_count": 33,
   "id": "e359c6d8-246e-4248-8e33-3741b351b5ec",
   "metadata": {},
   "outputs": [],
   "source": [
    "# Set"
   ]
  },
  {
   "cell_type": "code",
   "execution_count": 34,
   "id": "48071da8-4b77-4c93-8111-b511c8126b21",
   "metadata": {},
   "outputs": [
    {
     "data": {
      "text/plain": [
       "set()"
      ]
     },
     "execution_count": 34,
     "metadata": {},
     "output_type": "execute_result"
    }
   ],
   "source": [
    "s = set()\n",
    "s"
   ]
  },
  {
   "cell_type": "code",
   "execution_count": 35,
   "id": "cf640b43-fd13-45b4-bee7-445058826fc3",
   "metadata": {},
   "outputs": [
    {
     "data": {
      "text/plain": [
       "{}"
      ]
     },
     "execution_count": 35,
     "metadata": {},
     "output_type": "execute_result"
    }
   ],
   "source": [
    "s = {}\n",
    "s"
   ]
  },
  {
   "cell_type": "code",
   "execution_count": 36,
   "id": "51a98e21-b3c1-44ba-bcdf-4fc3abd4eb6f",
   "metadata": {},
   "outputs": [
    {
     "data": {
      "text/plain": [
       "dict"
      ]
     },
     "execution_count": 36,
     "metadata": {},
     "output_type": "execute_result"
    }
   ],
   "source": [
    "type(s)"
   ]
  },
  {
   "cell_type": "code",
   "execution_count": 37,
   "id": "050b7965-784d-4426-9b5a-4e50224be186",
   "metadata": {},
   "outputs": [],
   "source": [
    "s = {2, 4, 5}"
   ]
  },
  {
   "cell_type": "code",
   "execution_count": 38,
   "id": "20859493-ab5c-4d0d-b08c-05dee615dc97",
   "metadata": {},
   "outputs": [
    {
     "data": {
      "text/plain": [
       "set"
      ]
     },
     "execution_count": 38,
     "metadata": {},
     "output_type": "execute_result"
    }
   ],
   "source": [
    "type(s)"
   ]
  },
  {
   "cell_type": "code",
   "execution_count": 39,
   "id": "bf7e48f4-e724-4cb0-bea1-dc7deedfcf40",
   "metadata": {},
   "outputs": [],
   "source": [
    "st = {2, 3, 4, 5, 1, 3, 2, 6}"
   ]
  },
  {
   "cell_type": "code",
   "execution_count": 40,
   "id": "9cb59060-8231-4454-876f-9dcf0d253d42",
   "metadata": {},
   "outputs": [
    {
     "data": {
      "text/plain": [
       "{1, 2, 3, 4, 5, 6}"
      ]
     },
     "execution_count": 40,
     "metadata": {},
     "output_type": "execute_result"
    }
   ],
   "source": [
    "st"
   ]
  },
  {
   "cell_type": "code",
   "execution_count": null,
   "id": "467389ab-6648-44c1-8b84-7804842c658d",
   "metadata": {},
   "outputs": [],
   "source": []
  }
 ],
 "metadata": {
  "kernelspec": {
   "display_name": "Python 3 (ipykernel)",
   "language": "python",
   "name": "python3"
  },
  "language_info": {
   "codemirror_mode": {
    "name": "ipython",
    "version": 3
   },
   "file_extension": ".py",
   "mimetype": "text/x-python",
   "name": "python",
   "nbconvert_exporter": "python",
   "pygments_lexer": "ipython3",
   "version": "3.13.3"
  }
 },
 "nbformat": 4,
 "nbformat_minor": 5
}
