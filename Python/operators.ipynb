{
 "cells": [
  {
   "cell_type": "code",
   "execution_count": 1,
   "id": "b8e50f7c-1892-45f5-a414-71a7977cba0f",
   "metadata": {},
   "outputs": [],
   "source": [
    "name = \"Skill Training Nepal\"  # string"
   ]
  },
  {
   "cell_type": "code",
   "execution_count": 2,
   "id": "1f3a9f80-081a-4a66-b385-95ad8c2366fa",
   "metadata": {},
   "outputs": [],
   "source": [
    "# o/p: Training Center: Skill Training Nepal"
   ]
  },
  {
   "cell_type": "code",
   "execution_count": 4,
   "id": "ea30e8cf-0a8f-4453-9e29-e927d1ac2eb7",
   "metadata": {},
   "outputs": [
    {
     "name": "stdout",
     "output_type": "stream",
     "text": [
      "Training Center: Skill Training Nepal\n"
     ]
    }
   ],
   "source": [
    "print(\"Training Center:\", name)"
   ]
  },
  {
   "cell_type": "code",
   "execution_count": 5,
   "id": "1a47ea9a-cf92-49a4-a167-39cd8007ce14",
   "metadata": {},
   "outputs": [
    {
     "name": "stdout",
     "output_type": "stream",
     "text": [
      "Training Center: Skill Training Nepal\n"
     ]
    }
   ],
   "source": [
    "print(\"Training Center: \" + name)"
   ]
  },
  {
   "cell_type": "code",
   "execution_count": 6,
   "id": "123de99b-2e95-40af-a30d-9a269074850f",
   "metadata": {
    "scrolled": true
   },
   "outputs": [
    {
     "name": "stdout",
     "output_type": "stream",
     "text": [
      "Training Center: Skill Training Nepal\n"
     ]
    }
   ],
   "source": [
    "print(f\"Training Center: {name}\")"
   ]
  },
  {
   "cell_type": "code",
   "execution_count": 7,
   "id": "34573dcb-3bac-4a20-836d-470f241042b8",
   "metadata": {},
   "outputs": [
    {
     "name": "stdout",
     "output_type": "stream",
     "text": [
      "Training Center: Skill Training Nepal\n"
     ]
    }
   ],
   "source": [
    "print(\"Training Center: {}\".format(name))"
   ]
  },
  {
   "cell_type": "markdown",
   "id": "8ce34855-e636-4ecc-840c-523ddc1834e6",
   "metadata": {},
   "source": [
    "# Operators\n",
    "- Arithmetic\n",
    "- Comparision\n",
    "- Logical"
   ]
  },
  {
   "cell_type": "markdown",
   "id": "62e58e74-18e3-46bd-846e-9fd03d20dc1b",
   "metadata": {},
   "source": [
    "## Addition"
   ]
  },
  {
   "cell_type": "code",
   "execution_count": 8,
   "id": "65771291-1d39-4e5e-8aab-65894c45fbd6",
   "metadata": {},
   "outputs": [],
   "source": [
    "a, b, c = 4, 3, 2.0"
   ]
  },
  {
   "cell_type": "code",
   "execution_count": 11,
   "id": "bdc086d6-0bac-47ea-91ab-f9354bd443db",
   "metadata": {},
   "outputs": [
    {
     "name": "stdout",
     "output_type": "stream",
     "text": [
      "7\n",
      "<class 'int'>\n"
     ]
    }
   ],
   "source": [
    "d = a + b\n",
    "print(d)\n",
    "print(type(d))"
   ]
  },
  {
   "cell_type": "code",
   "execution_count": 12,
   "id": "48e1940c-db61-438b-82cf-4279768a5ab7",
   "metadata": {},
   "outputs": [
    {
     "name": "stdout",
     "output_type": "stream",
     "text": [
      "6.0\n",
      "<class 'float'>\n"
     ]
    }
   ],
   "source": [
    "d = a + c\n",
    "print(d)\n",
    "print(type(d))"
   ]
  },
  {
   "cell_type": "code",
   "execution_count": 13,
   "id": "98373bda-70f2-4d6b-8882-e9eef04c0973",
   "metadata": {},
   "outputs": [
    {
     "name": "stdout",
     "output_type": "stream",
     "text": [
      "6\n",
      "<class 'int'>\n"
     ]
    }
   ],
   "source": [
    "d = a + int(c)\n",
    "print(d)\n",
    "print(type(d))"
   ]
  },
  {
   "cell_type": "code",
   "execution_count": 20,
   "id": "d7de2ed5-8fb8-485f-bb0e-3974c96f23b6",
   "metadata": {},
   "outputs": [
    {
     "name": "stdout",
     "output_type": "stream",
     "text": [
      "10.0\n"
     ]
    }
   ],
   "source": [
    "a += c\n",
    "print(a)"
   ]
  },
  {
   "cell_type": "code",
   "execution_count": 14,
   "id": "9da7e96a-83a7-4c97-825d-a19f1124f546",
   "metadata": {},
   "outputs": [],
   "source": [
    "import operator"
   ]
  },
  {
   "cell_type": "code",
   "execution_count": 23,
   "id": "a554cdf1-65f0-47f0-be64-f6470d14a510",
   "metadata": {},
   "outputs": [
    {
     "data": {
      "text/plain": [
       "12.0"
      ]
     },
     "execution_count": 23,
     "metadata": {},
     "output_type": "execute_result"
    }
   ],
   "source": [
    "operator.add(a, c)"
   ]
  },
  {
   "cell_type": "code",
   "execution_count": 24,
   "id": "1ed34d95-a15e-4753-a407-22101338bfdb",
   "metadata": {},
   "outputs": [
    {
     "data": {
      "text/plain": [
       "12.0"
      ]
     },
     "execution_count": 24,
     "metadata": {},
     "output_type": "execute_result"
    }
   ],
   "source": [
    "operator.iadd(a, c)  # a += c"
   ]
  },
  {
   "cell_type": "markdown",
   "id": "c4a87dc5-ae11-4a61-b1c4-785e0125bd4e",
   "metadata": {},
   "source": [
    "## Subtraction"
   ]
  },
  {
   "cell_type": "code",
   "execution_count": 30,
   "id": "f6cb886f-9b46-425b-8795-54c5b02785b8",
   "metadata": {},
   "outputs": [],
   "source": [
    "a, b = 3, 4"
   ]
  },
  {
   "cell_type": "code",
   "execution_count": 31,
   "id": "ecacc70c-5174-4932-8c65-246c51cc73a1",
   "metadata": {},
   "outputs": [
    {
     "data": {
      "text/plain": [
       "-1"
      ]
     },
     "execution_count": 31,
     "metadata": {},
     "output_type": "execute_result"
    }
   ],
   "source": [
    "a - b"
   ]
  },
  {
   "cell_type": "code",
   "execution_count": 32,
   "id": "2c54f59f-47a1-4340-8dfa-fd0158e76556",
   "metadata": {},
   "outputs": [
    {
     "data": {
      "text/plain": [
       "-1"
      ]
     },
     "execution_count": 32,
     "metadata": {},
     "output_type": "execute_result"
    }
   ],
   "source": [
    "a -= b\n",
    "a"
   ]
  },
  {
   "cell_type": "code",
   "execution_count": 33,
   "id": "67fb3c35-ae00-4c0d-b4c4-17efbd41a7e6",
   "metadata": {},
   "outputs": [
    {
     "data": {
      "text/plain": [
       "5"
      ]
     },
     "execution_count": 33,
     "metadata": {},
     "output_type": "execute_result"
    }
   ],
   "source": [
    "import operator\n",
    "operator.sub(b, a)"
   ]
  },
  {
   "cell_type": "markdown",
   "id": "d67a71eb-a9bb-496f-b9f8-6413bcc507ab",
   "metadata": {},
   "source": [
    "## Multiplication"
   ]
  },
  {
   "cell_type": "code",
   "execution_count": 34,
   "id": "426b154c-4f5f-49c8-9c15-408bdaab3567",
   "metadata": {},
   "outputs": [],
   "source": [
    "a, b = 3, 5"
   ]
  },
  {
   "cell_type": "code",
   "execution_count": 35,
   "id": "0575ff80-70f3-4504-973b-95d6d7f3564a",
   "metadata": {},
   "outputs": [
    {
     "data": {
      "text/plain": [
       "15"
      ]
     },
     "execution_count": 35,
     "metadata": {},
     "output_type": "execute_result"
    }
   ],
   "source": [
    "a * b"
   ]
  },
  {
   "cell_type": "code",
   "execution_count": 36,
   "id": "f726430c-ed78-48e6-8fa8-291fa622e9a8",
   "metadata": {},
   "outputs": [
    {
     "data": {
      "text/plain": [
       "15"
      ]
     },
     "execution_count": 36,
     "metadata": {},
     "output_type": "execute_result"
    }
   ],
   "source": [
    "operator.mul(a, b)"
   ]
  },
  {
   "cell_type": "code",
   "execution_count": 37,
   "id": "234b787e-25aa-4bc8-9f6d-057877a041a9",
   "metadata": {},
   "outputs": [
    {
     "data": {
      "text/plain": [
       "15"
      ]
     },
     "execution_count": 37,
     "metadata": {},
     "output_type": "execute_result"
    }
   ],
   "source": [
    "a *= b\n",
    "a"
   ]
  },
  {
   "cell_type": "code",
   "execution_count": 45,
   "id": "2aa80f74-df7c-4d60-8a0a-8c9bb6574634",
   "metadata": {},
   "outputs": [],
   "source": [
    "string = \"12\""
   ]
  },
  {
   "cell_type": "code",
   "execution_count": 46,
   "id": "d21b64fe-ddb8-42d4-bf79-9628cad727fb",
   "metadata": {},
   "outputs": [
    {
     "data": {
      "text/plain": [
       "27"
      ]
     },
     "execution_count": 46,
     "metadata": {},
     "output_type": "execute_result"
    }
   ],
   "source": [
    "a + int(string)"
   ]
  },
  {
   "cell_type": "code",
   "execution_count": 53,
   "id": "6c36871c-95f2-47f8-aecc-3929c889b92d",
   "metadata": {},
   "outputs": [
    {
     "name": "stdout",
     "output_type": "stream",
     "text": [
      "Hello Hello Hello Hello Hello \n"
     ]
    }
   ],
   "source": [
    "str1 = \"Hello \"\n",
    "print(5 * str1)"
   ]
  },
  {
   "cell_type": "markdown",
   "id": "cb1c20a4-d02e-45ab-bcfc-60fb39b11ed2",
   "metadata": {},
   "source": [
    "## Division"
   ]
  },
  {
   "cell_type": "code",
   "execution_count": 116,
   "id": "cdd785c9-49ff-4917-80a7-eb8bc251bda0",
   "metadata": {},
   "outputs": [],
   "source": [
    "a, b = 3, 4"
   ]
  },
  {
   "cell_type": "code",
   "execution_count": 119,
   "id": "0e8aa678-5753-4ba0-85f6-288724b444a5",
   "metadata": {},
   "outputs": [
    {
     "data": {
      "text/plain": [
       "1"
      ]
     },
     "execution_count": 119,
     "metadata": {},
     "output_type": "execute_result"
    }
   ],
   "source": [
    "b // a"
   ]
  },
  {
   "cell_type": "code",
   "execution_count": 117,
   "id": "bf315533-9364-4c40-96c8-160e8d675d91",
   "metadata": {},
   "outputs": [
    {
     "data": {
      "text/plain": [
       "0.75"
      ]
     },
     "execution_count": 117,
     "metadata": {},
     "output_type": "execute_result"
    }
   ],
   "source": [
    "a/b"
   ]
  },
  {
   "cell_type": "code",
   "execution_count": 118,
   "id": "d32b68bc-a744-4cc2-b4b0-50c426645b9c",
   "metadata": {},
   "outputs": [
    {
     "data": {
      "text/plain": [
       "1.3333333333333333"
      ]
     },
     "execution_count": 118,
     "metadata": {},
     "output_type": "execute_result"
    }
   ],
   "source": [
    "b/a"
   ]
  },
  {
   "cell_type": "code",
   "execution_count": 122,
   "id": "d3f2de7f-e5b5-47fa-8176-76d42ecb6695",
   "metadata": {},
   "outputs": [
    {
     "data": {
      "text/plain": [
       "2"
      ]
     },
     "execution_count": 122,
     "metadata": {},
     "output_type": "execute_result"
    }
   ],
   "source": [
    "5//2"
   ]
  },
  {
   "cell_type": "code",
   "execution_count": 123,
   "id": "e522270c-c641-47c5-8995-97a1c5724a1f",
   "metadata": {},
   "outputs": [],
   "source": [
    "import operator"
   ]
  },
  {
   "cell_type": "code",
   "execution_count": 124,
   "id": "aaa0428f-facf-4bf9-bf96-b86b91d8e779",
   "metadata": {},
   "outputs": [
    {
     "data": {
      "text/plain": [
       "1.6666666666666667"
      ]
     },
     "execution_count": 124,
     "metadata": {},
     "output_type": "execute_result"
    }
   ],
   "source": [
    "operator.truediv(5, 3)"
   ]
  },
  {
   "cell_type": "code",
   "execution_count": 125,
   "id": "ed147cf6-5f5a-4d0f-a10f-0f2310841edd",
   "metadata": {},
   "outputs": [
    {
     "data": {
      "text/plain": [
       "1"
      ]
     },
     "execution_count": 125,
     "metadata": {},
     "output_type": "execute_result"
    }
   ],
   "source": [
    "operator.floordiv(5, 3)"
   ]
  },
  {
   "cell_type": "markdown",
   "id": "a3fbf8df-d9a2-4f36-bf65-934d52d0b89f",
   "metadata": {},
   "source": [
    "## Exponential"
   ]
  },
  {
   "cell_type": "code",
   "execution_count": 62,
   "id": "a840a517-025b-49eb-83de-af3f8f14f50d",
   "metadata": {},
   "outputs": [],
   "source": [
    "a, b = 3, 2"
   ]
  },
  {
   "cell_type": "code",
   "execution_count": 63,
   "id": "f8ae6899-22a3-4c14-baba-cf1949551c53",
   "metadata": {},
   "outputs": [
    {
     "data": {
      "text/plain": [
       "9"
      ]
     },
     "execution_count": 63,
     "metadata": {},
     "output_type": "execute_result"
    }
   ],
   "source": [
    "pow(a, b)"
   ]
  },
  {
   "cell_type": "code",
   "execution_count": 64,
   "id": "963a77c9-345b-4b1f-89bc-b4f517488c98",
   "metadata": {},
   "outputs": [
    {
     "data": {
      "text/plain": [
       "8"
      ]
     },
     "execution_count": 64,
     "metadata": {},
     "output_type": "execute_result"
    }
   ],
   "source": [
    "b ** a"
   ]
  },
  {
   "cell_type": "code",
   "execution_count": 61,
   "id": "64ec915a-dec1-41e6-998d-8528ce6c011a",
   "metadata": {},
   "outputs": [],
   "source": [
    "import math"
   ]
  },
  {
   "cell_type": "code",
   "execution_count": 66,
   "id": "019531cb-d259-4726-8b3c-8ae0c27bf239",
   "metadata": {},
   "outputs": [
    {
     "data": {
      "text/plain": [
       "1.7320508075688772"
      ]
     },
     "execution_count": 66,
     "metadata": {},
     "output_type": "execute_result"
    }
   ],
   "source": [
    "math.sqrt(a)"
   ]
  },
  {
   "cell_type": "code",
   "execution_count": 67,
   "id": "bd45ec54-3b9e-411b-9947-a5dacbcb0dea",
   "metadata": {},
   "outputs": [
    {
     "data": {
      "text/plain": [
       "1.4142135623730951"
      ]
     },
     "execution_count": 67,
     "metadata": {},
     "output_type": "execute_result"
    }
   ],
   "source": [
    "math.sqrt(b)"
   ]
  },
  {
   "cell_type": "code",
   "execution_count": 73,
   "id": "7b1c63b2-d435-4c71-bfde-050b77f44ae5",
   "metadata": {},
   "outputs": [
    {
     "data": {
      "text/plain": [
       "2.0"
      ]
     },
     "execution_count": 73,
     "metadata": {},
     "output_type": "execute_result"
    }
   ],
   "source": [
    "math.sqrt(4)"
   ]
  },
  {
   "cell_type": "code",
   "execution_count": 96,
   "id": "3155bd4f-9e2d-4ca1-b7bb-a7227fd5bf7c",
   "metadata": {},
   "outputs": [],
   "source": [
    "import cmath"
   ]
  },
  {
   "cell_type": "code",
   "execution_count": 97,
   "id": "ea973b9c-55c1-4817-9a4c-d0d7aa70bdf3",
   "metadata": {},
   "outputs": [
    {
     "data": {
      "text/plain": [
       "(2+0j)"
      ]
     },
     "execution_count": 97,
     "metadata": {},
     "output_type": "execute_result"
    }
   ],
   "source": [
    "cmath.sqrt(4)"
   ]
  },
  {
   "cell_type": "code",
   "execution_count": 98,
   "id": "9d4620a3-fcea-47ed-807b-25a53ff0c38b",
   "metadata": {},
   "outputs": [
    {
     "data": {
      "text/plain": [
       "2.718281828459045"
      ]
     },
     "execution_count": 98,
     "metadata": {},
     "output_type": "execute_result"
    }
   ],
   "source": [
    "math.exp(1)"
   ]
  },
  {
   "cell_type": "code",
   "execution_count": 99,
   "id": "4af0b0dc-035a-42b5-a099-205bcce2d3f8",
   "metadata": {},
   "outputs": [
    {
     "data": {
      "text/plain": [
       "7.38905609893065"
      ]
     },
     "execution_count": 99,
     "metadata": {},
     "output_type": "execute_result"
    }
   ],
   "source": [
    "math.exp(2)"
   ]
  },
  {
   "cell_type": "code",
   "execution_count": 100,
   "id": "867f03fb-b7e9-42b3-a8c6-bc3c36b2e861",
   "metadata": {},
   "outputs": [
    {
     "data": {
      "text/plain": [
       "1.718281828459045"
      ]
     },
     "execution_count": 100,
     "metadata": {},
     "output_type": "execute_result"
    }
   ],
   "source": [
    "math.expm1(1)  # e^1 - 1"
   ]
  },
  {
   "cell_type": "code",
   "execution_count": 101,
   "id": "94d01f49-a57a-4206-9c82-eda32b7cb8b6",
   "metadata": {},
   "outputs": [
    {
     "data": {
      "text/plain": [
       "1.0"
      ]
     },
     "execution_count": 101,
     "metadata": {},
     "output_type": "execute_result"
    }
   ],
   "source": [
    "math.exp(0)"
   ]
  },
  {
   "cell_type": "markdown",
   "id": "c6f73f1e-3463-47e2-b3be-39831dc0d712",
   "metadata": {},
   "source": [
    "## Trigonometric"
   ]
  },
  {
   "cell_type": "code",
   "execution_count": 102,
   "id": "5efe8934-b873-47ba-9e63-4158ab49a649",
   "metadata": {},
   "outputs": [],
   "source": [
    "import math"
   ]
  },
  {
   "cell_type": "code",
   "execution_count": 104,
   "id": "e946a78f-a5b6-454d-b55a-0d6dc65b264f",
   "metadata": {},
   "outputs": [
    {
     "data": {
      "text/plain": [
       "0.49999999999999994"
      ]
     },
     "execution_count": 104,
     "metadata": {},
     "output_type": "execute_result"
    }
   ],
   "source": [
    "deg = 30\n",
    "rad = math.radians(deg)\n",
    "math.sin(rad)"
   ]
  },
  {
   "cell_type": "code",
   "execution_count": 105,
   "id": "9f2f8241-e64e-48b9-ab42-0accc709d726",
   "metadata": {},
   "outputs": [
    {
     "data": {
      "text/plain": [
       "0.5510695830994463"
      ]
     },
     "execution_count": 105,
     "metadata": {},
     "output_type": "execute_result"
    }
   ],
   "source": [
    "math.asin(rad)"
   ]
  },
  {
   "cell_type": "code",
   "execution_count": 106,
   "id": "6faf1a93-0370-4a0a-9776-8b179f2c3f05",
   "metadata": {},
   "outputs": [
    {
     "data": {
      "text/plain": [
       "0.4804727781564516"
      ]
     },
     "execution_count": 106,
     "metadata": {},
     "output_type": "execute_result"
    }
   ],
   "source": [
    "math.tanh(rad)"
   ]
  },
  {
   "cell_type": "code",
   "execution_count": 107,
   "id": "ed0b8041-8c8c-457f-9b61-4f1bb41ba038",
   "metadata": {},
   "outputs": [
    {
     "data": {
      "text/plain": [
       "-1.0"
      ]
     },
     "execution_count": 107,
     "metadata": {},
     "output_type": "execute_result"
    }
   ],
   "source": [
    "math.cos(math.pi)"
   ]
  },
  {
   "cell_type": "markdown",
   "id": "4d455fbc-7f55-4aad-bb3a-36d5617679af",
   "metadata": {},
   "source": [
    "## Lograthms"
   ]
  },
  {
   "cell_type": "code",
   "execution_count": 108,
   "id": "dbee053d-c47c-47be-a428-9f6f4dd7fee2",
   "metadata": {},
   "outputs": [],
   "source": [
    "import math"
   ]
  },
  {
   "cell_type": "code",
   "execution_count": 109,
   "id": "b6ea3230-ab3e-4ee4-9ca4-dfe3798e7d54",
   "metadata": {},
   "outputs": [
    {
     "data": {
      "text/plain": [
       "2.302585092994046"
      ]
     },
     "execution_count": 109,
     "metadata": {},
     "output_type": "execute_result"
    }
   ],
   "source": [
    "math.log(10)"
   ]
  },
  {
   "cell_type": "code",
   "execution_count": 110,
   "id": "4320beea-9797-484e-97d0-f2b163175c26",
   "metadata": {},
   "outputs": [
    {
     "data": {
      "text/plain": [
       "2.302585092994046"
      ]
     },
     "execution_count": 110,
     "metadata": {},
     "output_type": "execute_result"
    }
   ],
   "source": [
    "math.log(10, math.e)"
   ]
  },
  {
   "cell_type": "code",
   "execution_count": 112,
   "id": "ab068019-9ccb-4a2f-a199-8605816e98f4",
   "metadata": {},
   "outputs": [
    {
     "data": {
      "text/plain": [
       "(2.9999999999999996+0j)"
      ]
     },
     "execution_count": 112,
     "metadata": {},
     "output_type": "execute_result"
    }
   ],
   "source": [
    "cmath.log(1000, 10)"
   ]
  },
  {
   "cell_type": "code",
   "execution_count": 113,
   "id": "5a6c086c-ab6f-49b0-bf99-a26e83f0f234",
   "metadata": {},
   "outputs": [
    {
     "data": {
      "text/plain": [
       "1.0"
      ]
     },
     "execution_count": 113,
     "metadata": {},
     "output_type": "execute_result"
    }
   ],
   "source": [
    "math.log2(2)"
   ]
  },
  {
   "cell_type": "markdown",
   "id": "310f69d8-8178-40a9-a31e-b809e00f51db",
   "metadata": {},
   "source": [
    "## Modulus"
   ]
  },
  {
   "cell_type": "code",
   "execution_count": 126,
   "id": "aebfbefc-2cac-4eeb-aa0d-0f9d079d01c4",
   "metadata": {},
   "outputs": [
    {
     "data": {
      "text/plain": [
       "0.75"
      ]
     },
     "execution_count": 126,
     "metadata": {},
     "output_type": "execute_result"
    }
   ],
   "source": [
    "3 / 4"
   ]
  },
  {
   "cell_type": "code",
   "execution_count": 127,
   "id": "92bd1071-1a4f-4aa8-ab43-f89634a66b87",
   "metadata": {},
   "outputs": [
    {
     "data": {
      "text/plain": [
       "3"
      ]
     },
     "execution_count": 127,
     "metadata": {},
     "output_type": "execute_result"
    }
   ],
   "source": [
    "# 3 mod 4 -> 3/4 (remainder)\n",
    "3 % 4"
   ]
  },
  {
   "cell_type": "code",
   "execution_count": 128,
   "id": "217322c6-2620-40d5-ae20-337a884c53de",
   "metadata": {},
   "outputs": [
    {
     "data": {
      "text/plain": [
       "0"
      ]
     },
     "execution_count": 128,
     "metadata": {},
     "output_type": "execute_result"
    }
   ],
   "source": [
    "operator.mod(4, 2)"
   ]
  },
  {
   "cell_type": "code",
   "execution_count": 129,
   "id": "23879f2c-bdad-486d-93e8-0bdf1ba26cc9",
   "metadata": {},
   "outputs": [
    {
     "data": {
      "text/plain": [
       "0"
      ]
     },
     "execution_count": 129,
     "metadata": {},
     "output_type": "execute_result"
    }
   ],
   "source": [
    "-4 % 4"
   ]
  },
  {
   "cell_type": "code",
   "execution_count": 131,
   "id": "357c071a-358a-4359-abd4-5690f9f25b30",
   "metadata": {},
   "outputs": [
    {
     "name": "stdout",
     "output_type": "stream",
     "text": [
      "4 1\n"
     ]
    }
   ],
   "source": [
    "q, r = divmod(9, 2)\n",
    "print(q, r)"
   ]
  },
  {
   "cell_type": "markdown",
   "id": "cf37f71a-bdb1-4edd-89bf-47ddbfd848fd",
   "metadata": {},
   "source": [
    "## Logical Operators\n",
    "```\n",
    "AND\n",
    "OR\n",
    "NOT\n",
    "```"
   ]
  },
  {
   "cell_type": "code",
   "execution_count": 132,
   "id": "b84b7976-15f5-488e-9407-77c32626a1be",
   "metadata": {},
   "outputs": [],
   "source": [
    "x = True\n",
    "y = False"
   ]
  },
  {
   "cell_type": "code",
   "execution_count": 133,
   "id": "ac1151bb-db52-4f8d-89f8-3bf4254f9326",
   "metadata": {},
   "outputs": [
    {
     "data": {
      "text/plain": [
       "False"
      ]
     },
     "execution_count": 133,
     "metadata": {},
     "output_type": "execute_result"
    }
   ],
   "source": [
    "x and y"
   ]
  },
  {
   "cell_type": "code",
   "execution_count": 134,
   "id": "7ff2449c-7e9f-4159-9aea-2d54ed5fb03b",
   "metadata": {},
   "outputs": [
    {
     "data": {
      "text/plain": [
       "True"
      ]
     },
     "execution_count": 134,
     "metadata": {},
     "output_type": "execute_result"
    }
   ],
   "source": [
    "x or y"
   ]
  },
  {
   "cell_type": "code",
   "execution_count": 135,
   "id": "96675a2a-d870-44d2-ba22-7d5f14c2f2be",
   "metadata": {},
   "outputs": [
    {
     "data": {
      "text/plain": [
       "True"
      ]
     },
     "execution_count": 135,
     "metadata": {},
     "output_type": "execute_result"
    }
   ],
   "source": [
    "x and x"
   ]
  },
  {
   "cell_type": "code",
   "execution_count": 136,
   "id": "b00a6eb7-4148-41b9-b346-de1f642325b2",
   "metadata": {},
   "outputs": [
    {
     "data": {
      "text/plain": [
       "False"
      ]
     },
     "execution_count": 136,
     "metadata": {},
     "output_type": "execute_result"
    }
   ],
   "source": [
    "not x"
   ]
  },
  {
   "cell_type": "code",
   "execution_count": 137,
   "id": "0d3078f0-6e68-43ce-8b10-a4b0a1e32017",
   "metadata": {},
   "outputs": [],
   "source": [
    "p, q = 1, 0"
   ]
  },
  {
   "cell_type": "code",
   "execution_count": 138,
   "id": "5545339e-7033-48cc-b372-61de3a5699d9",
   "metadata": {},
   "outputs": [
    {
     "data": {
      "text/plain": [
       "0"
      ]
     },
     "execution_count": 138,
     "metadata": {},
     "output_type": "execute_result"
    }
   ],
   "source": [
    "p and q"
   ]
  },
  {
   "cell_type": "code",
   "execution_count": 139,
   "id": "57f80ba0-27fd-46f0-9cb3-417f6bbf629f",
   "metadata": {},
   "outputs": [
    {
     "data": {
      "text/plain": [
       "1"
      ]
     },
     "execution_count": 139,
     "metadata": {},
     "output_type": "execute_result"
    }
   ],
   "source": [
    "p or q"
   ]
  },
  {
   "cell_type": "code",
   "execution_count": 143,
   "id": "24bdb359-e539-472c-a55d-74c9a3a92870",
   "metadata": {},
   "outputs": [
    {
     "data": {
      "text/plain": [
       "True"
      ]
     },
     "execution_count": 143,
     "metadata": {},
     "output_type": "execute_result"
    }
   ],
   "source": [
    " not (y and (x and p or q and y))"
   ]
  },
  {
   "cell_type": "markdown",
   "id": "7a6d7d8b-7300-4845-a935-d9a9a173f476",
   "metadata": {},
   "source": [
    "## Comparision"
   ]
  },
  {
   "cell_type": "code",
   "execution_count": 144,
   "id": "dfd63dda-d168-4b7c-ad4e-55b1bac586a4",
   "metadata": {},
   "outputs": [],
   "source": [
    "x, y, z = 2, 3, 4"
   ]
  },
  {
   "cell_type": "code",
   "execution_count": 145,
   "id": "c7da58e1-56ea-42d1-9dc5-624f238761e5",
   "metadata": {},
   "outputs": [
    {
     "data": {
      "text/plain": [
       "True"
      ]
     },
     "execution_count": 145,
     "metadata": {},
     "output_type": "execute_result"
    }
   ],
   "source": [
    "z > x"
   ]
  },
  {
   "cell_type": "code",
   "execution_count": 146,
   "id": "466c8639-d755-4ae9-a6f3-db1b3276703c",
   "metadata": {},
   "outputs": [
    {
     "data": {
      "text/plain": [
       "False"
      ]
     },
     "execution_count": 146,
     "metadata": {},
     "output_type": "execute_result"
    }
   ],
   "source": [
    "x > z > y"
   ]
  },
  {
   "cell_type": "code",
   "execution_count": 147,
   "id": "eb6898ad-0c0d-498a-9661-5c6e9ca2a99d",
   "metadata": {},
   "outputs": [
    {
     "data": {
      "text/plain": [
       "False"
      ]
     },
     "execution_count": 147,
     "metadata": {},
     "output_type": "execute_result"
    }
   ],
   "source": [
    "x == y"
   ]
  },
  {
   "cell_type": "code",
   "execution_count": 148,
   "id": "98db4147-3316-49ee-980d-f3523b6727ee",
   "metadata": {},
   "outputs": [
    {
     "data": {
      "text/plain": [
       "True"
      ]
     },
     "execution_count": 148,
     "metadata": {},
     "output_type": "execute_result"
    }
   ],
   "source": [
    "y is y"
   ]
  },
  {
   "cell_type": "code",
   "execution_count": 149,
   "id": "9ca98fb1-6f69-44d9-96e0-812a52d34f5d",
   "metadata": {},
   "outputs": [],
   "source": [
    "a = \"hello\"\n",
    "b = \"hello world\""
   ]
  },
  {
   "cell_type": "code",
   "execution_count": 150,
   "id": "cb8a003a-bbfa-4503-b96d-3b4f398b107a",
   "metadata": {},
   "outputs": [
    {
     "data": {
      "text/plain": [
       "False"
      ]
     },
     "execution_count": 150,
     "metadata": {},
     "output_type": "execute_result"
    }
   ],
   "source": [
    "a is b"
   ]
  },
  {
   "cell_type": "code",
   "execution_count": 153,
   "id": "0f295324-0764-420a-bbb7-66076678f1b1",
   "metadata": {},
   "outputs": [
    {
     "data": {
      "text/plain": [
       "True"
      ]
     },
     "execution_count": 153,
     "metadata": {},
     "output_type": "execute_result"
    }
   ],
   "source": [
    "a == b[:5]"
   ]
  },
  {
   "cell_type": "code",
   "execution_count": 154,
   "id": "24066ae3-78d2-4c72-9b9c-4e6ec3eb0bd1",
   "metadata": {},
   "outputs": [
    {
     "data": {
      "text/plain": [
       "True"
      ]
     },
     "execution_count": 154,
     "metadata": {},
     "output_type": "execute_result"
    }
   ],
   "source": [
    "x != y"
   ]
  },
  {
   "cell_type": "code",
   "execution_count": 155,
   "id": "72ee80f9-3b15-48f9-975b-8126a513bfc6",
   "metadata": {},
   "outputs": [
    {
     "data": {
      "text/plain": [
       "False"
      ]
     },
     "execution_count": 155,
     "metadata": {},
     "output_type": "execute_result"
    }
   ],
   "source": [
    "False != False"
   ]
  },
  {
   "cell_type": "code",
   "execution_count": 156,
   "id": "4b4fdd32-28ef-406d-aa51-865aaa24ccd8",
   "metadata": {},
   "outputs": [
    {
     "data": {
      "text/plain": [
       "True"
      ]
     },
     "execution_count": 156,
     "metadata": {},
     "output_type": "execute_result"
    }
   ],
   "source": [
    "x > y and y < z or False == False"
   ]
  },
  {
   "cell_type": "code",
   "execution_count": null,
   "id": "969a2447-3fca-4409-8d4c-551a94c6378c",
   "metadata": {},
   "outputs": [],
   "source": []
  }
 ],
 "metadata": {
  "kernelspec": {
   "display_name": "Python 3 (ipykernel)",
   "language": "python",
   "name": "python3"
  },
  "language_info": {
   "codemirror_mode": {
    "name": "ipython",
    "version": 3
   },
   "file_extension": ".py",
   "mimetype": "text/x-python",
   "name": "python",
   "nbconvert_exporter": "python",
   "pygments_lexer": "ipython3",
   "version": "3.13.3"
  }
 },
 "nbformat": 4,
 "nbformat_minor": 5
}
